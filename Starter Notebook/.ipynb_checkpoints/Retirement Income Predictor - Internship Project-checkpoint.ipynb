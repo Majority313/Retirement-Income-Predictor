{
 "cells": [
  {
   "cell_type": "markdown",
   "id": "af1b2275",
   "metadata": {
    "papermill": {
     "duration": 0.017363,
     "end_time": "2022-05-30T07:34:07.786190",
     "exception": false,
     "start_time": "2022-05-30T07:34:07.768827",
     "status": "completed"
    },
    "tags": []
   },
   "source": [
    "# <font color='firebrick'> Retirement Income Predictor - Advanced Regression Techniques  <font>"
   ]
  },
  {
   "cell_type": "markdown",
   "id": "54da4a4c",
   "metadata": {
    "papermill": {
     "duration": 0.016336,
     "end_time": "2022-05-30T07:34:07.849977",
     "exception": false,
     "start_time": "2022-05-30T07:34:07.833641",
     "status": "completed"
    },
    "tags": []
   },
   "source": [
    "## <font color='goldenrod'>Introduction <front>"
   ]
  },
  {
   "cell_type": "markdown",
   "id": "0a6047cf",
   "metadata": {
    "papermill": {
     "duration": 0.015392,
     "end_time": "2022-05-30T07:34:07.881297",
     "exception": false,
     "start_time": "2022-05-30T07:34:07.865905",
     "status": "completed"
    },
    "tags": []
   },
   "source": [
    "### <font color='black'> Project Description <font>"
   ]
  },
  {
   "cell_type": "markdown",
   "id": "b5ddc087",
   "metadata": {
    "papermill": {
     "duration": 0.015415,
     "end_time": "2022-05-30T07:34:07.912045",
     "exception": false,
     "start_time": "2022-05-30T07:34:07.896630",
     "status": "completed"
    },
    "tags": []
   },
   "source": [
    "Predict the ideal income (the maximum amount that will last until death with a certain confidence level) a person must draw from retirement using personal, investment and retirement data.\n",
    "Ideal income is defined as the maximum amount that will last until death with a certain confidence level."
   ]
  },
  {
   "cell_type": "markdown",
   "id": "ca87c7b7",
   "metadata": {
    "papermill": {
     "duration": 0.01546,
     "end_time": "2022-05-30T07:34:07.942978",
     "exception": false,
     "start_time": "2022-05-30T07:34:07.927518",
     "status": "completed"
    },
    "tags": []
   },
   "source": [
    "### <font color='black'> Data Description <font>"
   ]
  },
  {
   "cell_type": "markdown",
   "id": "36d9e1e8",
   "metadata": {
    "papermill": {
     "duration": 0.01529,
     "end_time": "2022-05-30T07:34:07.973810",
     "exception": false,
     "start_time": "2022-05-30T07:34:07.958520",
     "status": "completed"
    },
    "tags": []
   },
   "source": [
    "The data consists of personal, investment, and retirement-specific data on an individual level with the eventual ideal income in retirement. The repo has both the training and testing set used by our team → please keep this unchanged and use the training and validation sets for parameter optimization and the testing set for metric reporting and analysis of generalization capacity."
   ]
  },
  {
   "cell_type": "markdown",
   "id": "74d657d0",
   "metadata": {
    "papermill": {
     "duration": 0.015731,
     "end_time": "2022-05-30T07:34:08.005453",
     "exception": false,
     "start_time": "2022-05-30T07:34:07.989722",
     "status": "completed"
    },
    "tags": []
   },
   "source": [
    "### <font color='black'> Goal <font>"
   ]
  },
  {
   "cell_type": "markdown",
   "id": "4698c9f5",
   "metadata": {
    "papermill": {
     "duration": 0.018691,
     "end_time": "2022-05-30T07:34:08.039618",
     "exception": false,
     "start_time": "2022-05-30T07:34:08.020927",
     "status": "completed"
    },
    "tags": []
   },
   "source": [
    "With 39 explanatory variables describing (almost) every aspect of the dataset, this project aims to predict the amount which a person will receive as retirement income."
   ]
  },
  {
   "cell_type": "markdown",
   "id": "96db246f",
   "metadata": {
    "papermill": {
     "duration": 0.015307,
     "end_time": "2022-05-30T07:34:08.070205",
     "exception": false,
     "start_time": "2022-05-30T07:34:08.054898",
     "status": "completed"
    },
    "tags": []
   },
   "source": [
    "### <font color='black'> Step-by-Step Procedure <font>\n",
    "\n",
    "<font color='darkblue'> In order to tackle efficiently this project, we will follow the steps below suggested by [A. Qua](https://www.kaggle.com/adibouayjan). <front>\n",
    "    "
   ]
  },
  {
   "cell_type": "markdown",
   "id": "25b5d641",
   "metadata": {
    "papermill": {
     "duration": 0.016054,
     "end_time": "2022-05-30T07:34:08.101886",
     "exception": false,
     "start_time": "2022-05-30T07:34:08.085832",
     "status": "completed"
    },
    "tags": []
   },
   "source": [
    "## <font color='goldenrod'> 1. Exploratory Data Analysis <front>"
   ]
  },
  {
   "cell_type": "markdown",
   "id": "f272f92f",
   "metadata": {
    "papermill": {
     "duration": 0.015632,
     "end_time": "2022-05-30T07:34:08.133158",
     "exception": false,
     "start_time": "2022-05-30T07:34:08.117526",
     "status": "completed"
    },
    "tags": []
   },
   "source": [
    "These are the core parts of this session, according to [Pedro Marcelino, Ph.D.](https://www.kaggle.com/code/pmarcelino/comprehensive-data-exploration-with-python/notebook): \n",
    "    \n",
    "* Understand the problem. We'll look at each variable and do a philosophical analysis about their meaning and importance for this problem.\n",
    "    \n",
    "* Univariable study. We'll just focus on the dependent variable ('') and try to know a little bit more about it.\n",
    "    \n",
    "* Multivariate study. We'll try to understand how the dependent variable and independent variables relate.\n",
    "    \n",
    "* Basic cleaning. We'll clean the dataset and handle the missing data, outliers and categorical variables.\n",
    "    \n",
    "* Test assumptions. We'll check if our data meets the assumptions required by most multivariate techniques.\n"
   ]
  },
  {
   "cell_type": "markdown",
   "id": "fb42f894",
   "metadata": {
    "papermill": {
     "duration": 0.015484,
     "end_time": "2022-05-30T07:34:08.164110",
     "exception": false,
     "start_time": "2022-05-30T07:34:08.148626",
     "status": "completed"
    },
    "tags": []
   },
   "source": [
    "### <font color='forestgreen'>  1.1. General Exploration <front>"
   ]
  },
  {
   "cell_type": "markdown",
   "id": "a358b7e7",
   "metadata": {
    "papermill": {
     "duration": 0.015506,
     "end_time": "2022-05-30T07:34:08.195074",
     "exception": false,
     "start_time": "2022-05-30T07:34:08.179568",
     "status": "completed"
    },
    "tags": []
   },
   "source": [
    "#### 1.1.1. Loading libraries"
   ]
  },
  {
   "cell_type": "code",
   "execution_count": 15,
   "id": "002c8191",
   "metadata": {
    "execution": {
     "iopub.execute_input": "2022-05-30T07:34:08.228885Z",
     "iopub.status.busy": "2022-05-30T07:34:08.228386Z",
     "iopub.status.idle": "2022-05-30T07:34:08.239263Z",
     "shell.execute_reply": "2022-05-30T07:34:08.238504Z"
    },
    "papermill": {
     "duration": 0.030023,
     "end_time": "2022-05-30T07:34:08.241000",
     "exception": false,
     "start_time": "2022-05-30T07:34:08.210977",
     "status": "completed"
    },
    "tags": []
   },
   "outputs": [],
   "source": [
    "import pandas as pd "
   ]
  },
  {
   "cell_type": "markdown",
   "id": "cadae278",
   "metadata": {
    "papermill": {
     "duration": 0.015464,
     "end_time": "2022-05-30T07:34:08.271931",
     "exception": false,
     "start_time": "2022-05-30T07:34:08.256467",
     "status": "completed"
    },
    "tags": []
   },
   "source": [
    "Pandas is a Python library for data analysis. Started by Wes McKinney in 2008 out of a need for a powerful and flexible quantitative analysis tool, pandas has grown into one of the most popular Python libraries. It has an extremely active community of contributors. \n",
    "Pandas features: \n",
    "\n",
    "* Times series Analysis\n",
    "* Split-Apply-Combine\n",
    "* Data visualisation\n",
    "* Pivot Table\n",
    "    \n",
    "See [Pandas](https://mode.com/python-tutorial/libraries/pandas/) for more details. "
   ]
  },
  {
   "cell_type": "code",
   "execution_count": 16,
   "id": "48e3132d",
   "metadata": {
    "execution": {
     "iopub.execute_input": "2022-05-30T07:34:08.304485Z",
     "iopub.status.busy": "2022-05-30T07:34:08.303796Z",
     "iopub.status.idle": "2022-05-30T07:34:08.307676Z",
     "shell.execute_reply": "2022-05-30T07:34:08.307021Z"
    },
    "papermill": {
     "duration": 0.021808,
     "end_time": "2022-05-30T07:34:08.309362",
     "exception": false,
     "start_time": "2022-05-30T07:34:08.287554",
     "status": "completed"
    },
    "tags": []
   },
   "outputs": [],
   "source": [
    "import matplotlib.pyplot as plt"
   ]
  },
  {
   "cell_type": "markdown",
   "id": "02ba921e",
   "metadata": {
    "papermill": {
     "duration": 0.015946,
     "end_time": "2022-05-30T07:34:08.341089",
     "exception": false,
     "start_time": "2022-05-30T07:34:08.325143",
     "status": "completed"
    },
    "tags": []
   },
   "source": [
    "Matplotlib is a python library used to create 2D graphs and plots by using python scripts. It has a module named pyplot which makes things easy for plotting by providing feature to control line styles, font properties, formatting axes etc. It supports a very wide variety of graphs and plots namely - histogram, bar charts, power spectra, error charts etc. \n",
    "\n",
    "See [Matplotlib](https://matplotlib.org) for more details. "
   ]
  },
  {
   "cell_type": "code",
   "execution_count": 17,
   "id": "4b94fc9b",
   "metadata": {
    "execution": {
     "iopub.execute_input": "2022-05-30T07:34:08.373266Z",
     "iopub.status.busy": "2022-05-30T07:34:08.372660Z",
     "iopub.status.idle": "2022-05-30T07:34:09.417212Z",
     "shell.execute_reply": "2022-05-30T07:34:09.416285Z"
    },
    "papermill": {
     "duration": 1.063628,
     "end_time": "2022-05-30T07:34:09.420052",
     "exception": false,
     "start_time": "2022-05-30T07:34:08.356424",
     "status": "completed"
    },
    "tags": []
   },
   "outputs": [],
   "source": [
    "import seaborn as sns"
   ]
  },
  {
   "cell_type": "markdown",
   "id": "1f3a504c",
   "metadata": {
    "papermill": {
     "duration": 0.026807,
     "end_time": "2022-05-30T07:34:09.474555",
     "exception": false,
     "start_time": "2022-05-30T07:34:09.447748",
     "status": "completed"
    },
    "tags": []
   },
   "source": [
    "Seaborn is a Python data visualization library based on matplotlib. It provides a high-level interface for drawing attractive and informative statistical graphics.\n",
    "\n",
    "See [Seaborn](https://seaborn.pydata.org) for more details. "
   ]
  },
  {
   "cell_type": "code",
   "execution_count": 18,
   "id": "8a4e97c4",
   "metadata": {
    "execution": {
     "iopub.execute_input": "2022-05-30T07:34:09.528985Z",
     "iopub.status.busy": "2022-05-30T07:34:09.528610Z",
     "iopub.status.idle": "2022-05-30T07:34:09.532468Z",
     "shell.execute_reply": "2022-05-30T07:34:09.531785Z"
    },
    "papermill": {
     "duration": 0.034614,
     "end_time": "2022-05-30T07:34:09.535888",
     "exception": false,
     "start_time": "2022-05-30T07:34:09.501274",
     "status": "completed"
    },
    "tags": []
   },
   "outputs": [],
   "source": [
    "import numpy as np"
   ]
  },
  {
   "cell_type": "markdown",
   "id": "9baf354b",
   "metadata": {
    "papermill": {
     "duration": 0.024732,
     "end_time": "2022-05-30T07:34:09.585685",
     "exception": false,
     "start_time": "2022-05-30T07:34:09.560953",
     "status": "completed"
    },
    "tags": []
   },
   "source": [
    "NumPy brings the computational power of languages like C and Fortran to Python. With this power comes simplicity: a solution in NumPy is often clear and elegant.\n",
    "\n",
    "See [NumPy](https://numpy.org) for more details. "
   ]
  },
  {
   "cell_type": "code",
   "execution_count": 19,
   "id": "53e45f92",
   "metadata": {
    "execution": {
     "iopub.execute_input": "2022-05-30T07:34:09.619038Z",
     "iopub.status.busy": "2022-05-30T07:34:09.618708Z",
     "iopub.status.idle": "2022-05-30T07:34:09.622435Z",
     "shell.execute_reply": "2022-05-30T07:34:09.621616Z"
    },
    "papermill": {
     "duration": 0.022786,
     "end_time": "2022-05-30T07:34:09.624276",
     "exception": false,
     "start_time": "2022-05-30T07:34:09.601490",
     "status": "completed"
    },
    "tags": []
   },
   "outputs": [],
   "source": [
    "import warnings"
   ]
  },
  {
   "cell_type": "markdown",
   "id": "0cd6b452",
   "metadata": {
    "papermill": {
     "duration": 0.016115,
     "end_time": "2022-05-30T07:34:09.656473",
     "exception": false,
     "start_time": "2022-05-30T07:34:09.640358",
     "status": "completed"
    },
    "tags": []
   },
   "source": [
    "Warnings are provided to warn the developer of situations that aren’t necessarily exceptions. Usually, a warning occurs when there is some obsolete of certain programming elements, such as keyword, function or class, etc. A warning in a program is distinct from an error. Python program terminates immediately if an error occurs. \n",
    "\n",
    "Conversely, a warning is not critical. It shows some message, but the program runs. The warn() function defined in the ‘warning‘ module is used to show warning messages. The warning module is actually a subclass of Exception which is a built-in class in Python. \n",
    "\n",
    "See [Warning](https://docs.python.org/3/library/warnings.html) for more details. "
   ]
  },
  {
   "cell_type": "code",
   "execution_count": 20,
   "id": "17f860e0",
   "metadata": {
    "execution": {
     "iopub.execute_input": "2022-05-30T07:34:09.688541Z",
     "iopub.status.busy": "2022-05-30T07:34:09.688283Z",
     "iopub.status.idle": "2022-05-30T07:34:10.321305Z",
     "shell.execute_reply": "2022-05-30T07:34:10.320530Z"
    },
    "papermill": {
     "duration": 0.651588,
     "end_time": "2022-05-30T07:34:10.323642",
     "exception": false,
     "start_time": "2022-05-30T07:34:09.672054",
     "status": "completed"
    },
    "tags": []
   },
   "outputs": [],
   "source": [
    "import statsmodels.api as sm #Cross-sectional models and methods.\n",
    "import statsmodels.formula.api as smf #A convenience interface for specifying models using formula strings and DataFrames."
   ]
  },
  {
   "cell_type": "markdown",
   "id": "93eb8266",
   "metadata": {
    "papermill": {
     "duration": 0.015555,
     "end_time": "2022-05-30T07:34:10.355755",
     "exception": false,
     "start_time": "2022-05-30T07:34:10.340200",
     "status": "completed"
    },
    "tags": []
   },
   "source": [
    "Statsmodels is a Python module that provides classes and functions for the estimation of many different statistical models, as well as for conducting statistical tests, and statistical data exploration.\n",
    "\n",
    "See [Statsmodels](https://www.statsmodels.org/stable/index.html) for more details. "
   ]
  },
  {
   "cell_type": "code",
   "execution_count": 21,
   "id": "929836b8",
   "metadata": {
    "execution": {
     "iopub.execute_input": "2022-05-30T07:34:10.388579Z",
     "iopub.status.busy": "2022-05-30T07:34:10.388018Z",
     "iopub.status.idle": "2022-05-30T07:34:10.393698Z",
     "shell.execute_reply": "2022-05-30T07:34:10.393057Z"
    },
    "papermill": {
     "duration": 0.024245,
     "end_time": "2022-05-30T07:34:10.395626",
     "exception": false,
     "start_time": "2022-05-30T07:34:10.371381",
     "status": "completed"
    },
    "tags": []
   },
   "outputs": [],
   "source": [
    "from statsmodels.stats.outliers_influence import variance_inflation_factor"
   ]
  },
  {
   "cell_type": "markdown",
   "id": "2f2d030e",
   "metadata": {
    "papermill": {
     "duration": 0.015287,
     "end_time": "2022-05-30T07:34:10.426438",
     "exception": false,
     "start_time": "2022-05-30T07:34:10.411151",
     "status": "completed"
    },
    "tags": []
   },
   "source": [
    "The variance inflation factor is a measure for the increase of the variance of the parameter estimates if an additional variable, given by exog_idx is added to the linear regression. It is a measure for multicollinearity of the design matrix, exog.\n",
    "\n",
    "One recommendation is that if VIF is greater than 5, then the explanatory variable given by exog_idx is highly collinear with the other explanatory variables, and the parameter estimates will have large standard errors because of this."
   ]
  },
  {
   "cell_type": "code",
   "execution_count": 22,
   "id": "370bc0da",
   "metadata": {
    "execution": {
     "iopub.execute_input": "2022-05-30T07:34:10.458584Z",
     "iopub.status.busy": "2022-05-30T07:34:10.457872Z",
     "iopub.status.idle": "2022-05-30T07:34:10.500786Z",
     "shell.execute_reply": "2022-05-30T07:34:10.500159Z"
    },
    "papermill": {
     "duration": 0.060812,
     "end_time": "2022-05-30T07:34:10.502696",
     "exception": false,
     "start_time": "2022-05-30T07:34:10.441884",
     "status": "completed"
    },
    "tags": []
   },
   "outputs": [],
   "source": [
    "import sklearn"
   ]
  },
  {
   "cell_type": "markdown",
   "id": "229e9e08",
   "metadata": {
    "papermill": {
     "duration": 0.016576,
     "end_time": "2022-05-30T07:34:10.534566",
     "exception": false,
     "start_time": "2022-05-30T07:34:10.517990",
     "status": "completed"
    },
    "tags": []
   },
   "source": [
    "Scikit-learn (Sklearn) is the most useful and robust library for machine learning in Python. It provides a selection of efficient tools for machine learning and statistical modeling including classification, regression, clustering and dimensionality reduction via a consistence interface in Python. This library, which is largely written in Python, is built upon NumPy, SciPy and Matplotlib.\n",
    "\n",
    "See [Sckit-learn](https://www.tutorialspoint.com/scikit_learn/index.htm) for more details. "
   ]
  },
  {
   "cell_type": "code",
   "execution_count": 23,
   "id": "9dc5092e",
   "metadata": {
    "execution": {
     "iopub.execute_input": "2022-05-30T07:34:10.566774Z",
     "iopub.status.busy": "2022-05-30T07:34:10.566497Z",
     "iopub.status.idle": "2022-05-30T07:34:10.753784Z",
     "shell.execute_reply": "2022-05-30T07:34:10.753028Z"
    },
    "papermill": {
     "duration": 0.205611,
     "end_time": "2022-05-30T07:34:10.755803",
     "exception": false,
     "start_time": "2022-05-30T07:34:10.550192",
     "status": "completed"
    },
    "tags": []
   },
   "outputs": [],
   "source": [
    "# Function to deal with missing values via imputation\n",
    "from sklearn.impute import SimpleImputer"
   ]
  },
  {
   "cell_type": "code",
   "execution_count": 24,
   "id": "1c08a031",
   "metadata": {
    "execution": {
     "iopub.execute_input": "2022-05-30T07:34:10.789279Z",
     "iopub.status.busy": "2022-05-30T07:34:10.788608Z",
     "iopub.status.idle": "2022-05-30T07:34:10.793685Z",
     "shell.execute_reply": "2022-05-30T07:34:10.793013Z"
    },
    "papermill": {
     "duration": 0.023452,
     "end_time": "2022-05-30T07:34:10.795365",
     "exception": false,
     "start_time": "2022-05-30T07:34:10.771913",
     "status": "completed"
    },
    "tags": []
   },
   "outputs": [],
   "source": [
    "# Function that converts categorical values into numerical values via ordinal encoding or one-hot encoding\n",
    "from sklearn.preprocessing import OrdinalEncoder\n",
    "from sklearn.preprocessing import OneHotEncoder\n",
    "from sklearn.preprocessing import StandardScaler"
   ]
  },
  {
   "cell_type": "code",
   "execution_count": 55,
   "id": "ce6dfcf3",
   "metadata": {
    "execution": {
     "iopub.execute_input": "2022-05-30T07:34:10.827586Z",
     "iopub.status.busy": "2022-05-30T07:34:10.827335Z",
     "iopub.status.idle": "2022-05-30T07:34:10.840354Z",
     "shell.execute_reply": "2022-05-30T07:34:10.839675Z"
    },
    "papermill": {
     "duration": 0.031034,
     "end_time": "2022-05-30T07:34:10.842075",
     "exception": false,
     "start_time": "2022-05-30T07:34:10.811041",
     "status": "completed"
    },
    "tags": []
   },
   "outputs": [],
   "source": [
    "# Function to split data into different groups\n",
    "from sklearn.model_selection import train_test_split\n",
    "from sklearn.model_selection import cross_val_score\n",
    "from sklearn.model_selection import GridSearchCV\n",
    "from sklearn.feature_selection import VarianceThreshold\n",
    "from sklearn.linear_model import *\n",
    "from sklearn.tree import DecisionTreeRegressor\n",
    "from sklearn.svm import SVR\n",
    "from sklearn.ensemble import RandomForestRegressor\n",
    "from sklearn.metrics import mean_squared_error\n",
    "from sklearn.metrics import r2_score\n",
    "import random\n",
    "import math"
   ]
  },
  {
   "cell_type": "code",
   "execution_count": 26,
   "id": "089e76c7",
   "metadata": {
    "execution": {
     "iopub.execute_input": "2022-05-30T07:34:10.873923Z",
     "iopub.status.busy": "2022-05-30T07:34:10.873652Z",
     "iopub.status.idle": "2022-05-30T07:34:10.877518Z",
     "shell.execute_reply": "2022-05-30T07:34:10.876774Z"
    },
    "papermill": {
     "duration": 0.022213,
     "end_time": "2022-05-30T07:34:10.879584",
     "exception": false,
     "start_time": "2022-05-30T07:34:10.857371",
     "status": "completed"
    },
    "tags": []
   },
   "outputs": [],
   "source": [
    "# Statistics functions\n",
    "from scipy.stats import norm\n",
    "from scipy import stats\n",
    "from scipy.stats import chi2_contingency"
   ]
  },
  {
   "cell_type": "markdown",
   "id": "caf4c034",
   "metadata": {
    "papermill": {
     "duration": 0.015369,
     "end_time": "2022-05-30T07:34:10.910579",
     "exception": false,
     "start_time": "2022-05-30T07:34:10.895210",
     "status": "completed"
    },
    "tags": []
   },
   "source": [
    "SciPy is a scientific computation library that uses NumPy underneath. SciPy stands for Scientific Python. It provides more utility functions for optimization, stats and signal processing. Like NumPy, SciPy is open source so we can use it freely. SciPy was created by NumPy's creator Travis Olliphant.\n",
    "\n",
    "See [SciPy](https://scipy.org) for further details. "
   ]
  },
  {
   "cell_type": "code",
   "execution_count": 27,
   "id": "88681719",
   "metadata": {
    "execution": {
     "iopub.execute_input": "2022-05-30T07:34:10.942586Z",
     "iopub.status.busy": "2022-05-30T07:34:10.942344Z",
     "iopub.status.idle": "2022-05-30T07:34:10.949591Z",
     "shell.execute_reply": "2022-05-30T07:34:10.948853Z"
    },
    "papermill": {
     "duration": 0.025117,
     "end_time": "2022-05-30T07:34:10.951212",
     "exception": false,
     "start_time": "2022-05-30T07:34:10.926095",
     "status": "completed"
    },
    "tags": []
   },
   "outputs": [],
   "source": [
    "# Suppressing a warning \n",
    "warnings.filterwarnings(\"ignore\") \n",
    "\n",
    "# It is a magic function that renders the figure in the notebook\n",
    "%matplotlib inline \n",
    "\n",
    "# Changing the figure size of a seaborn axes \n",
    "sns.set(rc={\"figure.figsize\": (20, 15)})\n",
    "\n",
    "# The style parameters control properties like the color of the background and whether a grid is enabled by default.\n",
    "sns.set_style(\"whitegrid\")"
   ]
  },
  {
   "cell_type": "markdown",
   "id": "46895a2d",
   "metadata": {
    "papermill": {
     "duration": 0.015319,
     "end_time": "2022-05-30T07:34:10.982103",
     "exception": false,
     "start_time": "2022-05-30T07:34:10.966784",
     "status": "completed"
    },
    "tags": []
   },
   "source": [
    "#### 1.1.2. Loading the Data sets "
   ]
  },
  {
   "cell_type": "code",
   "execution_count": 42,
   "id": "9c635fdd",
   "metadata": {
    "execution": {
     "iopub.execute_input": "2022-05-30T07:34:11.014680Z",
     "iopub.status.busy": "2022-05-30T07:34:11.013932Z",
     "iopub.status.idle": "2022-05-30T07:34:11.067681Z",
     "shell.execute_reply": "2022-05-30T07:34:11.066965Z"
    },
    "papermill": {
     "duration": 0.071975,
     "end_time": "2022-05-30T07:34:11.069398",
     "exception": false,
     "start_time": "2022-05-30T07:34:10.997423",
     "status": "completed"
    },
    "scrolled": true,
    "tags": []
   },
   "outputs": [],
   "source": [
    "df_train = pd.read_csv('nedgroup_training_data.csv', index_col='Unnamed: 0')"
   ]
  },
  {
   "cell_type": "code",
   "execution_count": 43,
   "id": "8cf6bb9a",
   "metadata": {
    "execution": {
     "iopub.execute_input": "2022-05-30T07:34:11.102336Z",
     "iopub.status.busy": "2022-05-30T07:34:11.101761Z",
     "iopub.status.idle": "2022-05-30T07:34:11.105944Z",
     "shell.execute_reply": "2022-05-30T07:34:11.105148Z"
    },
    "papermill": {
     "duration": 0.023662,
     "end_time": "2022-05-30T07:34:11.108951",
     "exception": false,
     "start_time": "2022-05-30T07:34:11.085289",
     "status": "completed"
    },
    "tags": []
   },
   "outputs": [],
   "source": [
    "df_validation = pd.read_csv('nedgroup_validation_data.csv', index_col='Unnamed: 0')"
   ]
  },
  {
   "cell_type": "code",
   "execution_count": 92,
   "id": "f9bd442d",
   "metadata": {},
   "outputs": [],
   "source": [
    "df_test = pd.read_csv('nedgroup_testing_data.csv', index_col='Unnamed: 0')"
   ]
  },
  {
   "cell_type": "code",
   "execution_count": 44,
   "id": "6e33ef0b",
   "metadata": {
    "execution": {
     "iopub.execute_input": "2022-05-30T07:34:11.142969Z",
     "iopub.status.busy": "2022-05-30T07:34:11.142708Z",
     "iopub.status.idle": "2022-05-30T07:34:11.171640Z",
     "shell.execute_reply": "2022-05-30T07:34:11.170938Z"
    },
    "papermill": {
     "duration": 0.047504,
     "end_time": "2022-05-30T07:34:11.173301",
     "exception": false,
     "start_time": "2022-05-30T07:34:11.125797",
     "status": "completed"
    },
    "scrolled": true,
    "tags": []
   },
   "outputs": [
    {
     "data": {
      "text/html": [
       "<div>\n",
       "<style scoped>\n",
       "    .dataframe tbody tr th:only-of-type {\n",
       "        vertical-align: middle;\n",
       "    }\n",
       "\n",
       "    .dataframe tbody tr th {\n",
       "        vertical-align: top;\n",
       "    }\n",
       "\n",
       "    .dataframe thead th {\n",
       "        text-align: right;\n",
       "    }\n",
       "</style>\n",
       "<table border=\"1\" class=\"dataframe\">\n",
       "  <thead>\n",
       "    <tr style=\"text-align: right;\">\n",
       "      <th></th>\n",
       "      <th>GENDER</th>\n",
       "      <th>RETIREMENT_AGE</th>\n",
       "      <th>RETIREMENT_FUND_VALUE</th>\n",
       "      <th>DEPT_VALUE</th>\n",
       "      <th>CURRENT_NET_MONTHLY_INCOME</th>\n",
       "      <th>SPARE_CASH_VALUE</th>\n",
       "      <th>FINANCIALLY_SUPPORT_PARTNER</th>\n",
       "      <th>FINANCIALLY_SUPPORT_CHILDREN</th>\n",
       "      <th>YEARS_SUPPORTING_CHILD</th>\n",
       "      <th>CHILD_MONTHLY_SUPPORTING_VALUE</th>\n",
       "      <th>...</th>\n",
       "      <th>INTERNATIONAL_CASH_UNIT_TRUST</th>\n",
       "      <th>SA_EQUITY_LAP</th>\n",
       "      <th>SA_BOND_LAP</th>\n",
       "      <th>SA_CASH_LAP</th>\n",
       "      <th>INTERNATIONAL_EQUITY_LAP</th>\n",
       "      <th>INTERNATIONAL_BOND_LAP</th>\n",
       "      <th>INTERNATIONAL_CASH_LAP</th>\n",
       "      <th>LAP_EAC_PA_INCL_VAT</th>\n",
       "      <th>LA_EAC_PA_INCL_VAT</th>\n",
       "      <th>UNIT_TRUST_EAC_PA_INCL_VAT</th>\n",
       "    </tr>\n",
       "  </thead>\n",
       "  <tbody>\n",
       "    <tr>\n",
       "      <th>1</th>\n",
       "      <td>Female</td>\n",
       "      <td>74</td>\n",
       "      <td>9019817</td>\n",
       "      <td>108988</td>\n",
       "      <td>207</td>\n",
       "      <td>248324</td>\n",
       "      <td>No</td>\n",
       "      <td>No</td>\n",
       "      <td>0</td>\n",
       "      <td>0</td>\n",
       "      <td>...</td>\n",
       "      <td>9.00</td>\n",
       "      <td>36.75</td>\n",
       "      <td>19.75</td>\n",
       "      <td>16.0</td>\n",
       "      <td>18.85</td>\n",
       "      <td>6.9</td>\n",
       "      <td>1.75</td>\n",
       "      <td>1.220000</td>\n",
       "      <td>1.220000</td>\n",
       "      <td>1.220000</td>\n",
       "    </tr>\n",
       "    <tr>\n",
       "      <th>5</th>\n",
       "      <td>Female</td>\n",
       "      <td>71</td>\n",
       "      <td>5194248</td>\n",
       "      <td>51928</td>\n",
       "      <td>2013</td>\n",
       "      <td>164644</td>\n",
       "      <td>Yes</td>\n",
       "      <td>Yes</td>\n",
       "      <td>4</td>\n",
       "      <td>4900</td>\n",
       "      <td>...</td>\n",
       "      <td>9.90</td>\n",
       "      <td>24.60</td>\n",
       "      <td>34.40</td>\n",
       "      <td>16.0</td>\n",
       "      <td>17.60</td>\n",
       "      <td>4.4</td>\n",
       "      <td>3.00</td>\n",
       "      <td>1.220000</td>\n",
       "      <td>1.220000</td>\n",
       "      <td>1.220000</td>\n",
       "    </tr>\n",
       "    <tr>\n",
       "      <th>9</th>\n",
       "      <td>Female</td>\n",
       "      <td>70</td>\n",
       "      <td>6796815</td>\n",
       "      <td>41684</td>\n",
       "      <td>3047</td>\n",
       "      <td>240103</td>\n",
       "      <td>No</td>\n",
       "      <td>No</td>\n",
       "      <td>0</td>\n",
       "      <td>0</td>\n",
       "      <td>...</td>\n",
       "      <td>4.95</td>\n",
       "      <td>49.00</td>\n",
       "      <td>15.00</td>\n",
       "      <td>6.0</td>\n",
       "      <td>23.00</td>\n",
       "      <td>6.0</td>\n",
       "      <td>1.00</td>\n",
       "      <td>2.945625</td>\n",
       "      <td>2.945625</td>\n",
       "      <td>2.785625</td>\n",
       "    </tr>\n",
       "    <tr>\n",
       "      <th>10</th>\n",
       "      <td>Female</td>\n",
       "      <td>78</td>\n",
       "      <td>7238811</td>\n",
       "      <td>147184</td>\n",
       "      <td>1725</td>\n",
       "      <td>20071</td>\n",
       "      <td>No</td>\n",
       "      <td>No</td>\n",
       "      <td>0</td>\n",
       "      <td>0</td>\n",
       "      <td>...</td>\n",
       "      <td>0.00</td>\n",
       "      <td>49.00</td>\n",
       "      <td>15.00</td>\n",
       "      <td>6.0</td>\n",
       "      <td>23.00</td>\n",
       "      <td>6.0</td>\n",
       "      <td>1.00</td>\n",
       "      <td>0.336955</td>\n",
       "      <td>0.336955</td>\n",
       "      <td>0.350264</td>\n",
       "    </tr>\n",
       "    <tr>\n",
       "      <th>12</th>\n",
       "      <td>Male</td>\n",
       "      <td>87</td>\n",
       "      <td>6173619</td>\n",
       "      <td>229014</td>\n",
       "      <td>2261</td>\n",
       "      <td>82670</td>\n",
       "      <td>Yes</td>\n",
       "      <td>Yes</td>\n",
       "      <td>3</td>\n",
       "      <td>294</td>\n",
       "      <td>...</td>\n",
       "      <td>2.50</td>\n",
       "      <td>0.00</td>\n",
       "      <td>0.00</td>\n",
       "      <td>1.0</td>\n",
       "      <td>98.00</td>\n",
       "      <td>0.0</td>\n",
       "      <td>1.00</td>\n",
       "      <td>1.460000</td>\n",
       "      <td>1.460000</td>\n",
       "      <td>1.460000</td>\n",
       "    </tr>\n",
       "  </tbody>\n",
       "</table>\n",
       "<p>5 rows × 40 columns</p>\n",
       "</div>"
      ],
      "text/plain": [
       "    GENDER  RETIREMENT_AGE  RETIREMENT_FUND_VALUE  DEPT_VALUE  \\\n",
       "1   Female              74                9019817      108988   \n",
       "5   Female              71                5194248       51928   \n",
       "9   Female              70                6796815       41684   \n",
       "10  Female              78                7238811      147184   \n",
       "12    Male              87                6173619      229014   \n",
       "\n",
       "    CURRENT_NET_MONTHLY_INCOME  SPARE_CASH_VALUE FINANCIALLY_SUPPORT_PARTNER  \\\n",
       "1                          207            248324                          No   \n",
       "5                         2013            164644                         Yes   \n",
       "9                         3047            240103                          No   \n",
       "10                        1725             20071                          No   \n",
       "12                        2261             82670                         Yes   \n",
       "\n",
       "   FINANCIALLY_SUPPORT_CHILDREN  YEARS_SUPPORTING_CHILD  \\\n",
       "1                            No                       0   \n",
       "5                           Yes                       4   \n",
       "9                            No                       0   \n",
       "10                           No                       0   \n",
       "12                          Yes                       3   \n",
       "\n",
       "    CHILD_MONTHLY_SUPPORTING_VALUE  ...  INTERNATIONAL_CASH_UNIT_TRUST  \\\n",
       "1                                0  ...                           9.00   \n",
       "5                             4900  ...                           9.90   \n",
       "9                                0  ...                           4.95   \n",
       "10                               0  ...                           0.00   \n",
       "12                             294  ...                           2.50   \n",
       "\n",
       "    SA_EQUITY_LAP SA_BOND_LAP SA_CASH_LAP  INTERNATIONAL_EQUITY_LAP  \\\n",
       "1           36.75       19.75        16.0                     18.85   \n",
       "5           24.60       34.40        16.0                     17.60   \n",
       "9           49.00       15.00         6.0                     23.00   \n",
       "10          49.00       15.00         6.0                     23.00   \n",
       "12           0.00        0.00         1.0                     98.00   \n",
       "\n",
       "    INTERNATIONAL_BOND_LAP  INTERNATIONAL_CASH_LAP  LAP_EAC_PA_INCL_VAT  \\\n",
       "1                      6.9                    1.75             1.220000   \n",
       "5                      4.4                    3.00             1.220000   \n",
       "9                      6.0                    1.00             2.945625   \n",
       "10                     6.0                    1.00             0.336955   \n",
       "12                     0.0                    1.00             1.460000   \n",
       "\n",
       "    LA_EAC_PA_INCL_VAT  UNIT_TRUST_EAC_PA_INCL_VAT  \n",
       "1             1.220000                    1.220000  \n",
       "5             1.220000                    1.220000  \n",
       "9             2.945625                    2.785625  \n",
       "10            0.336955                    0.350264  \n",
       "12            1.460000                    1.460000  \n",
       "\n",
       "[5 rows x 40 columns]"
      ]
     },
     "execution_count": 44,
     "metadata": {},
     "output_type": "execute_result"
    }
   ],
   "source": [
    "df_train.head()"
   ]
  },
  {
   "cell_type": "code",
   "execution_count": 45,
   "id": "15a84976",
   "metadata": {
    "execution": {
     "iopub.execute_input": "2022-05-30T07:34:11.206023Z",
     "iopub.status.busy": "2022-05-30T07:34:11.205783Z",
     "iopub.status.idle": "2022-05-30T07:34:11.209827Z",
     "shell.execute_reply": "2022-05-30T07:34:11.209019Z"
    },
    "papermill": {
     "duration": 0.022898,
     "end_time": "2022-05-30T07:34:11.212189",
     "exception": false,
     "start_time": "2022-05-30T07:34:11.189291",
     "status": "completed"
    },
    "tags": []
   },
   "outputs": [
    {
     "data": {
      "text/html": [
       "<div>\n",
       "<style scoped>\n",
       "    .dataframe tbody tr th:only-of-type {\n",
       "        vertical-align: middle;\n",
       "    }\n",
       "\n",
       "    .dataframe tbody tr th {\n",
       "        vertical-align: top;\n",
       "    }\n",
       "\n",
       "    .dataframe thead th {\n",
       "        text-align: right;\n",
       "    }\n",
       "</style>\n",
       "<table border=\"1\" class=\"dataframe\">\n",
       "  <thead>\n",
       "    <tr style=\"text-align: right;\">\n",
       "      <th></th>\n",
       "      <th>GENDER</th>\n",
       "      <th>RETIREMENT_AGE</th>\n",
       "      <th>RETIREMENT_FUND_VALUE</th>\n",
       "      <th>DEPT_VALUE</th>\n",
       "      <th>CURRENT_NET_MONTHLY_INCOME</th>\n",
       "      <th>SPARE_CASH_VALUE</th>\n",
       "      <th>FINANCIALLY_SUPPORT_PARTNER</th>\n",
       "      <th>FINANCIALLY_SUPPORT_CHILDREN</th>\n",
       "      <th>YEARS_SUPPORTING_CHILD</th>\n",
       "      <th>CHILD_MONTHLY_SUPPORTING_VALUE</th>\n",
       "      <th>...</th>\n",
       "      <th>INTERNATIONAL_CASH_UNIT_TRUST</th>\n",
       "      <th>SA_EQUITY_LAP</th>\n",
       "      <th>SA_BOND_LAP</th>\n",
       "      <th>SA_CASH_LAP</th>\n",
       "      <th>INTERNATIONAL_EQUITY_LAP</th>\n",
       "      <th>INTERNATIONAL_BOND_LAP</th>\n",
       "      <th>INTERNATIONAL_CASH_LAP</th>\n",
       "      <th>LAP_EAC_PA_INCL_VAT</th>\n",
       "      <th>LA_EAC_PA_INCL_VAT</th>\n",
       "      <th>UNIT_TRUST_EAC_PA_INCL_VAT</th>\n",
       "    </tr>\n",
       "  </thead>\n",
       "  <tbody>\n",
       "    <tr>\n",
       "      <th>43729</th>\n",
       "      <td>Female</td>\n",
       "      <td>67</td>\n",
       "      <td>9000142</td>\n",
       "      <td>15573</td>\n",
       "      <td>496</td>\n",
       "      <td>81693</td>\n",
       "      <td>No</td>\n",
       "      <td>Yes</td>\n",
       "      <td>1</td>\n",
       "      <td>2389</td>\n",
       "      <td>...</td>\n",
       "      <td>0.5</td>\n",
       "      <td>0.0</td>\n",
       "      <td>15.0</td>\n",
       "      <td>85.0</td>\n",
       "      <td>0.0</td>\n",
       "      <td>0.0</td>\n",
       "      <td>0.0</td>\n",
       "      <td>1.753037</td>\n",
       "      <td>1.753037</td>\n",
       "      <td>1.753037</td>\n",
       "    </tr>\n",
       "    <tr>\n",
       "      <th>43732</th>\n",
       "      <td>Female</td>\n",
       "      <td>62</td>\n",
       "      <td>6027373</td>\n",
       "      <td>174387</td>\n",
       "      <td>7463</td>\n",
       "      <td>185622</td>\n",
       "      <td>No</td>\n",
       "      <td>Yes</td>\n",
       "      <td>4</td>\n",
       "      <td>953</td>\n",
       "      <td>...</td>\n",
       "      <td>1.0</td>\n",
       "      <td>0.0</td>\n",
       "      <td>0.0</td>\n",
       "      <td>1.0</td>\n",
       "      <td>59.4</td>\n",
       "      <td>29.7</td>\n",
       "      <td>9.9</td>\n",
       "      <td>2.012777</td>\n",
       "      <td>2.012777</td>\n",
       "      <td>1.902777</td>\n",
       "    </tr>\n",
       "    <tr>\n",
       "      <th>43733</th>\n",
       "      <td>Female</td>\n",
       "      <td>92</td>\n",
       "      <td>4376257</td>\n",
       "      <td>114480</td>\n",
       "      <td>1343</td>\n",
       "      <td>223781</td>\n",
       "      <td>No</td>\n",
       "      <td>Yes</td>\n",
       "      <td>4</td>\n",
       "      <td>1009</td>\n",
       "      <td>...</td>\n",
       "      <td>2.0</td>\n",
       "      <td>0.0</td>\n",
       "      <td>0.0</td>\n",
       "      <td>1.0</td>\n",
       "      <td>90.0</td>\n",
       "      <td>0.0</td>\n",
       "      <td>9.0</td>\n",
       "      <td>0.704934</td>\n",
       "      <td>0.704934</td>\n",
       "      <td>0.704934</td>\n",
       "    </tr>\n",
       "    <tr>\n",
       "      <th>43734</th>\n",
       "      <td>Female</td>\n",
       "      <td>83</td>\n",
       "      <td>5023733</td>\n",
       "      <td>103967</td>\n",
       "      <td>1532</td>\n",
       "      <td>226560</td>\n",
       "      <td>Yes</td>\n",
       "      <td>No</td>\n",
       "      <td>0</td>\n",
       "      <td>0</td>\n",
       "      <td>...</td>\n",
       "      <td>2.5</td>\n",
       "      <td>0.0</td>\n",
       "      <td>0.0</td>\n",
       "      <td>1.0</td>\n",
       "      <td>59.4</td>\n",
       "      <td>29.7</td>\n",
       "      <td>9.9</td>\n",
       "      <td>1.460000</td>\n",
       "      <td>1.460000</td>\n",
       "      <td>1.460000</td>\n",
       "    </tr>\n",
       "    <tr>\n",
       "      <th>43735</th>\n",
       "      <td>Female</td>\n",
       "      <td>84</td>\n",
       "      <td>5486899</td>\n",
       "      <td>45344</td>\n",
       "      <td>6143</td>\n",
       "      <td>234655</td>\n",
       "      <td>Yes</td>\n",
       "      <td>No</td>\n",
       "      <td>0</td>\n",
       "      <td>0</td>\n",
       "      <td>...</td>\n",
       "      <td>0.0</td>\n",
       "      <td>24.5</td>\n",
       "      <td>24.5</td>\n",
       "      <td>26.0</td>\n",
       "      <td>14.7</td>\n",
       "      <td>7.8</td>\n",
       "      <td>2.5</td>\n",
       "      <td>0.420000</td>\n",
       "      <td>0.420000</td>\n",
       "      <td>0.300000</td>\n",
       "    </tr>\n",
       "  </tbody>\n",
       "</table>\n",
       "<p>5 rows × 40 columns</p>\n",
       "</div>"
      ],
      "text/plain": [
       "       GENDER  RETIREMENT_AGE  RETIREMENT_FUND_VALUE  DEPT_VALUE  \\\n",
       "43729  Female              67                9000142       15573   \n",
       "43732  Female              62                6027373      174387   \n",
       "43733  Female              92                4376257      114480   \n",
       "43734  Female              83                5023733      103967   \n",
       "43735  Female              84                5486899       45344   \n",
       "\n",
       "       CURRENT_NET_MONTHLY_INCOME  SPARE_CASH_VALUE  \\\n",
       "43729                         496             81693   \n",
       "43732                        7463            185622   \n",
       "43733                        1343            223781   \n",
       "43734                        1532            226560   \n",
       "43735                        6143            234655   \n",
       "\n",
       "      FINANCIALLY_SUPPORT_PARTNER FINANCIALLY_SUPPORT_CHILDREN  \\\n",
       "43729                          No                          Yes   \n",
       "43732                          No                          Yes   \n",
       "43733                          No                          Yes   \n",
       "43734                         Yes                           No   \n",
       "43735                         Yes                           No   \n",
       "\n",
       "       YEARS_SUPPORTING_CHILD  CHILD_MONTHLY_SUPPORTING_VALUE  ...  \\\n",
       "43729                       1                            2389  ...   \n",
       "43732                       4                             953  ...   \n",
       "43733                       4                            1009  ...   \n",
       "43734                       0                               0  ...   \n",
       "43735                       0                               0  ...   \n",
       "\n",
       "       INTERNATIONAL_CASH_UNIT_TRUST  SA_EQUITY_LAP SA_BOND_LAP SA_CASH_LAP  \\\n",
       "43729                            0.5            0.0        15.0        85.0   \n",
       "43732                            1.0            0.0         0.0         1.0   \n",
       "43733                            2.0            0.0         0.0         1.0   \n",
       "43734                            2.5            0.0         0.0         1.0   \n",
       "43735                            0.0           24.5        24.5        26.0   \n",
       "\n",
       "       INTERNATIONAL_EQUITY_LAP  INTERNATIONAL_BOND_LAP  \\\n",
       "43729                       0.0                     0.0   \n",
       "43732                      59.4                    29.7   \n",
       "43733                      90.0                     0.0   \n",
       "43734                      59.4                    29.7   \n",
       "43735                      14.7                     7.8   \n",
       "\n",
       "       INTERNATIONAL_CASH_LAP  LAP_EAC_PA_INCL_VAT  LA_EAC_PA_INCL_VAT  \\\n",
       "43729                     0.0             1.753037            1.753037   \n",
       "43732                     9.9             2.012777            2.012777   \n",
       "43733                     9.0             0.704934            0.704934   \n",
       "43734                     9.9             1.460000            1.460000   \n",
       "43735                     2.5             0.420000            0.420000   \n",
       "\n",
       "       UNIT_TRUST_EAC_PA_INCL_VAT  \n",
       "43729                    1.753037  \n",
       "43732                    1.902777  \n",
       "43733                    0.704934  \n",
       "43734                    1.460000  \n",
       "43735                    0.300000  \n",
       "\n",
       "[5 rows x 40 columns]"
      ]
     },
     "execution_count": 45,
     "metadata": {},
     "output_type": "execute_result"
    }
   ],
   "source": [
    "df_validation.head()"
   ]
  },
  {
   "cell_type": "code",
   "execution_count": 93,
   "id": "2b47ac70",
   "metadata": {},
   "outputs": [
    {
     "data": {
      "text/html": [
       "<div>\n",
       "<style scoped>\n",
       "    .dataframe tbody tr th:only-of-type {\n",
       "        vertical-align: middle;\n",
       "    }\n",
       "\n",
       "    .dataframe tbody tr th {\n",
       "        vertical-align: top;\n",
       "    }\n",
       "\n",
       "    .dataframe thead th {\n",
       "        text-align: right;\n",
       "    }\n",
       "</style>\n",
       "<table border=\"1\" class=\"dataframe\">\n",
       "  <thead>\n",
       "    <tr style=\"text-align: right;\">\n",
       "      <th></th>\n",
       "      <th>GENDER</th>\n",
       "      <th>RETIREMENT_AGE</th>\n",
       "      <th>RETIREMENT_FUND_VALUE</th>\n",
       "      <th>DEPT_VALUE</th>\n",
       "      <th>CURRENT_NET_MONTHLY_INCOME</th>\n",
       "      <th>SPARE_CASH_VALUE</th>\n",
       "      <th>FINANCIALLY_SUPPORT_PARTNER</th>\n",
       "      <th>FINANCIALLY_SUPPORT_CHILDREN</th>\n",
       "      <th>YEARS_SUPPORTING_CHILD</th>\n",
       "      <th>CHILD_MONTHLY_SUPPORTING_VALUE</th>\n",
       "      <th>...</th>\n",
       "      <th>INTERNATIONAL_CASH_UNIT_TRUST</th>\n",
       "      <th>SA_EQUITY_LAP</th>\n",
       "      <th>SA_BOND_LAP</th>\n",
       "      <th>SA_CASH_LAP</th>\n",
       "      <th>INTERNATIONAL_EQUITY_LAP</th>\n",
       "      <th>INTERNATIONAL_BOND_LAP</th>\n",
       "      <th>INTERNATIONAL_CASH_LAP</th>\n",
       "      <th>LAP_EAC_PA_INCL_VAT</th>\n",
       "      <th>LA_EAC_PA_INCL_VAT</th>\n",
       "      <th>UNIT_TRUST_EAC_PA_INCL_VAT</th>\n",
       "    </tr>\n",
       "  </thead>\n",
       "  <tbody>\n",
       "    <tr>\n",
       "      <th>56495</th>\n",
       "      <td>Male</td>\n",
       "      <td>91</td>\n",
       "      <td>4251825</td>\n",
       "      <td>94130</td>\n",
       "      <td>4146</td>\n",
       "      <td>41574</td>\n",
       "      <td>No</td>\n",
       "      <td>No</td>\n",
       "      <td>0</td>\n",
       "      <td>0</td>\n",
       "      <td>...</td>\n",
       "      <td>3.380</td>\n",
       "      <td>14.570</td>\n",
       "      <td>16.480</td>\n",
       "      <td>29.75</td>\n",
       "      <td>31.848</td>\n",
       "      <td>5.357</td>\n",
       "      <td>1.995</td>\n",
       "      <td>0.922000</td>\n",
       "      <td>0.922000</td>\n",
       "      <td>0.854000</td>\n",
       "    </tr>\n",
       "    <tr>\n",
       "      <th>56496</th>\n",
       "      <td>Male</td>\n",
       "      <td>76</td>\n",
       "      <td>6716316</td>\n",
       "      <td>141328</td>\n",
       "      <td>1265</td>\n",
       "      <td>200076</td>\n",
       "      <td>No</td>\n",
       "      <td>No</td>\n",
       "      <td>0</td>\n",
       "      <td>0</td>\n",
       "      <td>...</td>\n",
       "      <td>3.380</td>\n",
       "      <td>1.500</td>\n",
       "      <td>26.000</td>\n",
       "      <td>15.50</td>\n",
       "      <td>49.600</td>\n",
       "      <td>5.400</td>\n",
       "      <td>2.000</td>\n",
       "      <td>2.739954</td>\n",
       "      <td>2.739954</td>\n",
       "      <td>2.671954</td>\n",
       "    </tr>\n",
       "    <tr>\n",
       "      <th>56499</th>\n",
       "      <td>Male</td>\n",
       "      <td>62</td>\n",
       "      <td>508676</td>\n",
       "      <td>4805</td>\n",
       "      <td>5751</td>\n",
       "      <td>212957</td>\n",
       "      <td>Yes</td>\n",
       "      <td>No</td>\n",
       "      <td>0</td>\n",
       "      <td>0</td>\n",
       "      <td>...</td>\n",
       "      <td>2.715</td>\n",
       "      <td>31.400</td>\n",
       "      <td>16.500</td>\n",
       "      <td>10.30</td>\n",
       "      <td>28.040</td>\n",
       "      <td>10.380</td>\n",
       "      <td>3.380</td>\n",
       "      <td>1.181000</td>\n",
       "      <td>1.181000</td>\n",
       "      <td>1.137000</td>\n",
       "    </tr>\n",
       "    <tr>\n",
       "      <th>56501</th>\n",
       "      <td>Female</td>\n",
       "      <td>63</td>\n",
       "      <td>10542288</td>\n",
       "      <td>211999</td>\n",
       "      <td>2541</td>\n",
       "      <td>8995</td>\n",
       "      <td>Yes</td>\n",
       "      <td>Yes</td>\n",
       "      <td>3</td>\n",
       "      <td>3317</td>\n",
       "      <td>...</td>\n",
       "      <td>2.465</td>\n",
       "      <td>14.570</td>\n",
       "      <td>16.480</td>\n",
       "      <td>29.75</td>\n",
       "      <td>31.848</td>\n",
       "      <td>5.357</td>\n",
       "      <td>1.995</td>\n",
       "      <td>2.772379</td>\n",
       "      <td>2.772379</td>\n",
       "      <td>2.391027</td>\n",
       "    </tr>\n",
       "    <tr>\n",
       "      <th>56503</th>\n",
       "      <td>Male</td>\n",
       "      <td>82</td>\n",
       "      <td>4949178</td>\n",
       "      <td>455</td>\n",
       "      <td>2029</td>\n",
       "      <td>240760</td>\n",
       "      <td>Yes</td>\n",
       "      <td>No</td>\n",
       "      <td>0</td>\n",
       "      <td>0</td>\n",
       "      <td>...</td>\n",
       "      <td>3.190</td>\n",
       "      <td>24.565</td>\n",
       "      <td>17.435</td>\n",
       "      <td>29.85</td>\n",
       "      <td>19.223</td>\n",
       "      <td>7.207</td>\n",
       "      <td>1.720</td>\n",
       "      <td>1.208244</td>\n",
       "      <td>1.208244</td>\n",
       "      <td>1.454422</td>\n",
       "    </tr>\n",
       "  </tbody>\n",
       "</table>\n",
       "<p>5 rows × 40 columns</p>\n",
       "</div>"
      ],
      "text/plain": [
       "       GENDER  RETIREMENT_AGE  RETIREMENT_FUND_VALUE  DEPT_VALUE  \\\n",
       "56495    Male              91                4251825       94130   \n",
       "56496    Male              76                6716316      141328   \n",
       "56499    Male              62                 508676        4805   \n",
       "56501  Female              63               10542288      211999   \n",
       "56503    Male              82                4949178         455   \n",
       "\n",
       "       CURRENT_NET_MONTHLY_INCOME  SPARE_CASH_VALUE  \\\n",
       "56495                        4146             41574   \n",
       "56496                        1265            200076   \n",
       "56499                        5751            212957   \n",
       "56501                        2541              8995   \n",
       "56503                        2029            240760   \n",
       "\n",
       "      FINANCIALLY_SUPPORT_PARTNER FINANCIALLY_SUPPORT_CHILDREN  \\\n",
       "56495                          No                           No   \n",
       "56496                          No                           No   \n",
       "56499                         Yes                           No   \n",
       "56501                         Yes                          Yes   \n",
       "56503                         Yes                           No   \n",
       "\n",
       "       YEARS_SUPPORTING_CHILD  CHILD_MONTHLY_SUPPORTING_VALUE  ...  \\\n",
       "56495                       0                               0  ...   \n",
       "56496                       0                               0  ...   \n",
       "56499                       0                               0  ...   \n",
       "56501                       3                            3317  ...   \n",
       "56503                       0                               0  ...   \n",
       "\n",
       "       INTERNATIONAL_CASH_UNIT_TRUST  SA_EQUITY_LAP SA_BOND_LAP SA_CASH_LAP  \\\n",
       "56495                          3.380         14.570      16.480       29.75   \n",
       "56496                          3.380          1.500      26.000       15.50   \n",
       "56499                          2.715         31.400      16.500       10.30   \n",
       "56501                          2.465         14.570      16.480       29.75   \n",
       "56503                          3.190         24.565      17.435       29.85   \n",
       "\n",
       "       INTERNATIONAL_EQUITY_LAP  INTERNATIONAL_BOND_LAP  \\\n",
       "56495                    31.848                   5.357   \n",
       "56496                    49.600                   5.400   \n",
       "56499                    28.040                  10.380   \n",
       "56501                    31.848                   5.357   \n",
       "56503                    19.223                   7.207   \n",
       "\n",
       "       INTERNATIONAL_CASH_LAP  LAP_EAC_PA_INCL_VAT  LA_EAC_PA_INCL_VAT  \\\n",
       "56495                   1.995             0.922000            0.922000   \n",
       "56496                   2.000             2.739954            2.739954   \n",
       "56499                   3.380             1.181000            1.181000   \n",
       "56501                   1.995             2.772379            2.772379   \n",
       "56503                   1.720             1.208244            1.208244   \n",
       "\n",
       "       UNIT_TRUST_EAC_PA_INCL_VAT  \n",
       "56495                    0.854000  \n",
       "56496                    2.671954  \n",
       "56499                    1.137000  \n",
       "56501                    2.391027  \n",
       "56503                    1.454422  \n",
       "\n",
       "[5 rows x 40 columns]"
      ]
     },
     "execution_count": 93,
     "metadata": {},
     "output_type": "execute_result"
    }
   ],
   "source": [
    "df_test.head()"
   ]
  },
  {
   "cell_type": "code",
   "execution_count": 46,
   "id": "9ef54fd1",
   "metadata": {
    "execution": {
     "iopub.execute_input": "2022-05-30T07:34:11.278545Z",
     "iopub.status.busy": "2022-05-30T07:34:11.277821Z",
     "iopub.status.idle": "2022-05-30T07:34:11.283523Z",
     "shell.execute_reply": "2022-05-30T07:34:11.282827Z"
    },
    "papermill": {
     "duration": 0.02427,
     "end_time": "2022-05-30T07:34:11.285719",
     "exception": false,
     "start_time": "2022-05-30T07:34:11.261449",
     "status": "completed"
    },
    "scrolled": true,
    "tags": []
   },
   "outputs": [
    {
     "name": "stdout",
     "output_type": "stream",
     "text": [
      "<class 'pandas.core.frame.DataFrame'>\n",
      "Int64Index: 23944 entries, 1 to 43728\n",
      "Data columns (total 40 columns):\n",
      " #   Column                                   Non-Null Count  Dtype  \n",
      "---  ------                                   --------------  -----  \n",
      " 0   GENDER                                   23944 non-null  object \n",
      " 1   RETIREMENT_AGE                           23944 non-null  int64  \n",
      " 2   RETIREMENT_FUND_VALUE                    23944 non-null  int64  \n",
      " 3   DEPT_VALUE                               23944 non-null  int64  \n",
      " 4   CURRENT_NET_MONTHLY_INCOME               23944 non-null  int64  \n",
      " 5   SPARE_CASH_VALUE                         23944 non-null  int64  \n",
      " 6   FINANCIALLY_SUPPORT_PARTNER              23944 non-null  object \n",
      " 7   FINANCIALLY_SUPPORT_CHILDREN             23944 non-null  object \n",
      " 8   YEARS_SUPPORTING_CHILD                   23944 non-null  int64  \n",
      " 9   CHILD_MONTHLY_SUPPORTING_VALUE           23944 non-null  int64  \n",
      " 10  YEARS_SUPPORTING_SOMEONE_ELSE            23944 non-null  int64  \n",
      " 11  OTHER_MONTHLY_SUPPORTING_VALUE           23944 non-null  int64  \n",
      " 12  HAS_EMERGENCY_SAVINGS                    23944 non-null  object \n",
      " 13  CRITICAL_ILLNESS                         23944 non-null  object \n",
      " 14  ONGOING_COACHING_FEE                     23944 non-null  float64\n",
      " 15  CONFIDENCE_LEVEL                         23944 non-null  int64  \n",
      " 16  INITIAL_PLANNER_FEE_INCL_VAT_UT          23944 non-null  float64\n",
      " 17  INITIAL_PLANNER_FEE_INCL_VAT_LA_AND_LAP  23944 non-null  float64\n",
      " 18  ONGOING_PLANNER_FEE_INCL_VAT_UT          23944 non-null  float64\n",
      " 19  ONGOING_PLANNER_FEE_INCL_VAT_LA_AND_LAP  23944 non-null  float64\n",
      " 20  TARGET_MONTHLY_INCOME                    23944 non-null  int64  \n",
      " 21  SPOUSE_GENDER                            12527 non-null  object \n",
      " 22  SPOUSE_RETIREMENT_AGE                    12527 non-null  float64\n",
      " 23  SPOUSE_DATE_OF_BIRTH                     12527 non-null  object \n",
      " 24  PERCENTAGE_SUCCESS                       23944 non-null  float64\n",
      " 25  SA_EQUITY_UNIT_TRUST                     23944 non-null  float64\n",
      " 26  SA_BOND_UNIT_TRUST                       23944 non-null  float64\n",
      " 27  SA_CASH_UNIT_TRUST                       23944 non-null  float64\n",
      " 28  INTERNATIONAL_EQUITY_UNIT_TRUST          23944 non-null  float64\n",
      " 29  INTERNATIONAL_BOND_UNIT_TRUST            23944 non-null  float64\n",
      " 30  INTERNATIONAL_CASH_UNIT_TRUST            23944 non-null  float64\n",
      " 31  SA_EQUITY_LAP                            23944 non-null  float64\n",
      " 32  SA_BOND_LAP                              23944 non-null  float64\n",
      " 33  SA_CASH_LAP                              23944 non-null  float64\n",
      " 34  INTERNATIONAL_EQUITY_LAP                 23944 non-null  float64\n",
      " 35  INTERNATIONAL_BOND_LAP                   23944 non-null  float64\n",
      " 36  INTERNATIONAL_CASH_LAP                   23944 non-null  float64\n",
      " 37  LAP_EAC_PA_INCL_VAT                      23944 non-null  float64\n",
      " 38  LA_EAC_PA_INCL_VAT                       23944 non-null  float64\n",
      " 39  UNIT_TRUST_EAC_PA_INCL_VAT               23944 non-null  float64\n",
      "dtypes: float64(22), int64(11), object(7)\n",
      "memory usage: 7.5+ MB\n"
     ]
    }
   ],
   "source": [
    "df_train.info()"
   ]
  },
  {
   "cell_type": "code",
   "execution_count": 47,
   "id": "f4ce6bf3",
   "metadata": {
    "scrolled": true
   },
   "outputs": [
    {
     "name": "stdout",
     "output_type": "stream",
     "text": [
      "<class 'pandas.core.frame.DataFrame'>\n",
      "Int64Index: 6841 entries, 43729 to 56494\n",
      "Data columns (total 40 columns):\n",
      " #   Column                                   Non-Null Count  Dtype  \n",
      "---  ------                                   --------------  -----  \n",
      " 0   GENDER                                   6841 non-null   object \n",
      " 1   RETIREMENT_AGE                           6841 non-null   int64  \n",
      " 2   RETIREMENT_FUND_VALUE                    6841 non-null   int64  \n",
      " 3   DEPT_VALUE                               6841 non-null   int64  \n",
      " 4   CURRENT_NET_MONTHLY_INCOME               6841 non-null   int64  \n",
      " 5   SPARE_CASH_VALUE                         6841 non-null   int64  \n",
      " 6   FINANCIALLY_SUPPORT_PARTNER              6841 non-null   object \n",
      " 7   FINANCIALLY_SUPPORT_CHILDREN             6841 non-null   object \n",
      " 8   YEARS_SUPPORTING_CHILD                   6841 non-null   int64  \n",
      " 9   CHILD_MONTHLY_SUPPORTING_VALUE           6841 non-null   int64  \n",
      " 10  YEARS_SUPPORTING_SOMEONE_ELSE            6841 non-null   int64  \n",
      " 11  OTHER_MONTHLY_SUPPORTING_VALUE           6841 non-null   int64  \n",
      " 12  HAS_EMERGENCY_SAVINGS                    6841 non-null   object \n",
      " 13  CRITICAL_ILLNESS                         6841 non-null   object \n",
      " 14  ONGOING_COACHING_FEE                     6841 non-null   float64\n",
      " 15  CONFIDENCE_LEVEL                         6841 non-null   int64  \n",
      " 16  INITIAL_PLANNER_FEE_INCL_VAT_UT          6841 non-null   float64\n",
      " 17  INITIAL_PLANNER_FEE_INCL_VAT_LA_AND_LAP  6841 non-null   float64\n",
      " 18  ONGOING_PLANNER_FEE_INCL_VAT_UT          6841 non-null   float64\n",
      " 19  ONGOING_PLANNER_FEE_INCL_VAT_LA_AND_LAP  6841 non-null   float64\n",
      " 20  TARGET_MONTHLY_INCOME                    6841 non-null   int64  \n",
      " 21  SPOUSE_GENDER                            3655 non-null   object \n",
      " 22  SPOUSE_RETIREMENT_AGE                    3655 non-null   float64\n",
      " 23  SPOUSE_DATE_OF_BIRTH                     3655 non-null   object \n",
      " 24  PERCENTAGE_SUCCESS                       6841 non-null   float64\n",
      " 25  SA_EQUITY_UNIT_TRUST                     6841 non-null   float64\n",
      " 26  SA_BOND_UNIT_TRUST                       6841 non-null   float64\n",
      " 27  SA_CASH_UNIT_TRUST                       6841 non-null   float64\n",
      " 28  INTERNATIONAL_EQUITY_UNIT_TRUST          6841 non-null   float64\n",
      " 29  INTERNATIONAL_BOND_UNIT_TRUST            6841 non-null   float64\n",
      " 30  INTERNATIONAL_CASH_UNIT_TRUST            6841 non-null   float64\n",
      " 31  SA_EQUITY_LAP                            6841 non-null   float64\n",
      " 32  SA_BOND_LAP                              6841 non-null   float64\n",
      " 33  SA_CASH_LAP                              6841 non-null   float64\n",
      " 34  INTERNATIONAL_EQUITY_LAP                 6841 non-null   float64\n",
      " 35  INTERNATIONAL_BOND_LAP                   6841 non-null   float64\n",
      " 36  INTERNATIONAL_CASH_LAP                   6841 non-null   float64\n",
      " 37  LAP_EAC_PA_INCL_VAT                      6841 non-null   float64\n",
      " 38  LA_EAC_PA_INCL_VAT                       6841 non-null   float64\n",
      " 39  UNIT_TRUST_EAC_PA_INCL_VAT               6841 non-null   float64\n",
      "dtypes: float64(22), int64(11), object(7)\n",
      "memory usage: 2.1+ MB\n"
     ]
    }
   ],
   "source": [
    "df_validation.info()"
   ]
  },
  {
   "cell_type": "code",
   "execution_count": 94,
   "id": "6cb8b628",
   "metadata": {},
   "outputs": [
    {
     "name": "stdout",
     "output_type": "stream",
     "text": [
      "<class 'pandas.core.frame.DataFrame'>\n",
      "Int64Index: 3420 entries, 56495 to 62844\n",
      "Data columns (total 40 columns):\n",
      " #   Column                                   Non-Null Count  Dtype  \n",
      "---  ------                                   --------------  -----  \n",
      " 0   GENDER                                   3420 non-null   object \n",
      " 1   RETIREMENT_AGE                           3420 non-null   int64  \n",
      " 2   RETIREMENT_FUND_VALUE                    3420 non-null   int64  \n",
      " 3   DEPT_VALUE                               3420 non-null   int64  \n",
      " 4   CURRENT_NET_MONTHLY_INCOME               3420 non-null   int64  \n",
      " 5   SPARE_CASH_VALUE                         3420 non-null   int64  \n",
      " 6   FINANCIALLY_SUPPORT_PARTNER              3420 non-null   object \n",
      " 7   FINANCIALLY_SUPPORT_CHILDREN             3420 non-null   object \n",
      " 8   YEARS_SUPPORTING_CHILD                   3420 non-null   int64  \n",
      " 9   CHILD_MONTHLY_SUPPORTING_VALUE           3420 non-null   int64  \n",
      " 10  YEARS_SUPPORTING_SOMEONE_ELSE            3420 non-null   int64  \n",
      " 11  OTHER_MONTHLY_SUPPORTING_VALUE           3420 non-null   int64  \n",
      " 12  HAS_EMERGENCY_SAVINGS                    3420 non-null   object \n",
      " 13  CRITICAL_ILLNESS                         3420 non-null   object \n",
      " 14  ONGOING_COACHING_FEE                     3420 non-null   float64\n",
      " 15  CONFIDENCE_LEVEL                         3420 non-null   int64  \n",
      " 16  INITIAL_PLANNER_FEE_INCL_VAT_UT          3420 non-null   float64\n",
      " 17  INITIAL_PLANNER_FEE_INCL_VAT_LA_AND_LAP  3420 non-null   float64\n",
      " 18  ONGOING_PLANNER_FEE_INCL_VAT_UT          3420 non-null   float64\n",
      " 19  ONGOING_PLANNER_FEE_INCL_VAT_LA_AND_LAP  3420 non-null   float64\n",
      " 20  TARGET_MONTHLY_INCOME                    3420 non-null   int64  \n",
      " 21  SPOUSE_GENDER                            1763 non-null   object \n",
      " 22  SPOUSE_RETIREMENT_AGE                    1763 non-null   float64\n",
      " 23  SPOUSE_DATE_OF_BIRTH                     1763 non-null   object \n",
      " 24  PERCENTAGE_SUCCESS                       3420 non-null   float64\n",
      " 25  SA_EQUITY_UNIT_TRUST                     3420 non-null   float64\n",
      " 26  SA_BOND_UNIT_TRUST                       3420 non-null   float64\n",
      " 27  SA_CASH_UNIT_TRUST                       3420 non-null   float64\n",
      " 28  INTERNATIONAL_EQUITY_UNIT_TRUST          3420 non-null   float64\n",
      " 29  INTERNATIONAL_BOND_UNIT_TRUST            3420 non-null   float64\n",
      " 30  INTERNATIONAL_CASH_UNIT_TRUST            3420 non-null   float64\n",
      " 31  SA_EQUITY_LAP                            3420 non-null   float64\n",
      " 32  SA_BOND_LAP                              3420 non-null   float64\n",
      " 33  SA_CASH_LAP                              3420 non-null   float64\n",
      " 34  INTERNATIONAL_EQUITY_LAP                 3420 non-null   float64\n",
      " 35  INTERNATIONAL_BOND_LAP                   3420 non-null   float64\n",
      " 36  INTERNATIONAL_CASH_LAP                   3420 non-null   float64\n",
      " 37  LAP_EAC_PA_INCL_VAT                      3420 non-null   float64\n",
      " 38  LA_EAC_PA_INCL_VAT                       3420 non-null   float64\n",
      " 39  UNIT_TRUST_EAC_PA_INCL_VAT               3420 non-null   float64\n",
      "dtypes: float64(22), int64(11), object(7)\n",
      "memory usage: 1.1+ MB\n"
     ]
    }
   ],
   "source": [
    "df_test.info()"
   ]
  },
  {
   "cell_type": "markdown",
   "id": "47de3658",
   "metadata": {
    "papermill": {
     "duration": 0.015903,
     "end_time": "2022-05-30T07:34:11.319099",
     "exception": false,
     "start_time": "2022-05-30T07:34:11.303196",
     "status": "completed"
    },
    "tags": []
   },
   "source": [
    "#### 1.1.3. Checking for missing data"
   ]
  },
  {
   "cell_type": "code",
   "execution_count": 48,
   "id": "7cfb0f9e",
   "metadata": {
    "execution": {
     "iopub.execute_input": "2022-05-30T07:34:11.351685Z",
     "iopub.status.busy": "2022-05-30T07:34:11.351438Z",
     "iopub.status.idle": "2022-05-30T07:34:11.381920Z",
     "shell.execute_reply": "2022-05-30T07:34:11.381150Z"
    },
    "papermill": {
     "duration": 0.049315,
     "end_time": "2022-05-30T07:34:11.384231",
     "exception": false,
     "start_time": "2022-05-30T07:34:11.334916",
     "status": "completed"
    },
    "tags": []
   },
   "outputs": [
    {
     "data": {
      "text/plain": [
       "GENDER                                         0\n",
       "RETIREMENT_AGE                                 0\n",
       "RETIREMENT_FUND_VALUE                          0\n",
       "DEPT_VALUE                                     0\n",
       "CURRENT_NET_MONTHLY_INCOME                     0\n",
       "SPARE_CASH_VALUE                               0\n",
       "FINANCIALLY_SUPPORT_PARTNER                    0\n",
       "FINANCIALLY_SUPPORT_CHILDREN                   0\n",
       "YEARS_SUPPORTING_CHILD                         0\n",
       "CHILD_MONTHLY_SUPPORTING_VALUE                 0\n",
       "YEARS_SUPPORTING_SOMEONE_ELSE                  0\n",
       "OTHER_MONTHLY_SUPPORTING_VALUE                 0\n",
       "HAS_EMERGENCY_SAVINGS                          0\n",
       "CRITICAL_ILLNESS                               0\n",
       "ONGOING_COACHING_FEE                           0\n",
       "CONFIDENCE_LEVEL                               0\n",
       "INITIAL_PLANNER_FEE_INCL_VAT_UT                0\n",
       "INITIAL_PLANNER_FEE_INCL_VAT_LA_AND_LAP        0\n",
       "ONGOING_PLANNER_FEE_INCL_VAT_UT                0\n",
       "ONGOING_PLANNER_FEE_INCL_VAT_LA_AND_LAP        0\n",
       "TARGET_MONTHLY_INCOME                          0\n",
       "SPOUSE_GENDER                              11417\n",
       "SPOUSE_RETIREMENT_AGE                      11417\n",
       "SPOUSE_DATE_OF_BIRTH                       11417\n",
       "PERCENTAGE_SUCCESS                             0\n",
       "SA_EQUITY_UNIT_TRUST                           0\n",
       "SA_BOND_UNIT_TRUST                             0\n",
       "SA_CASH_UNIT_TRUST                             0\n",
       "INTERNATIONAL_EQUITY_UNIT_TRUST                0\n",
       "INTERNATIONAL_BOND_UNIT_TRUST                  0\n",
       "INTERNATIONAL_CASH_UNIT_TRUST                  0\n",
       "SA_EQUITY_LAP                                  0\n",
       "SA_BOND_LAP                                    0\n",
       "SA_CASH_LAP                                    0\n",
       "INTERNATIONAL_EQUITY_LAP                       0\n",
       "INTERNATIONAL_BOND_LAP                         0\n",
       "INTERNATIONAL_CASH_LAP                         0\n",
       "LAP_EAC_PA_INCL_VAT                            0\n",
       "LA_EAC_PA_INCL_VAT                             0\n",
       "UNIT_TRUST_EAC_PA_INCL_VAT                     0\n",
       "dtype: int64"
      ]
     },
     "execution_count": 48,
     "metadata": {},
     "output_type": "execute_result"
    }
   ],
   "source": [
    "df_train.isnull().sum()"
   ]
  },
  {
   "cell_type": "code",
   "execution_count": 49,
   "id": "75d677e3",
   "metadata": {
    "execution": {
     "iopub.execute_input": "2022-05-30T07:34:11.419250Z",
     "iopub.status.busy": "2022-05-30T07:34:11.418946Z",
     "iopub.status.idle": "2022-05-30T07:34:11.439775Z",
     "shell.execute_reply": "2022-05-30T07:34:11.437791Z"
    },
    "papermill": {
     "duration": 0.039872,
     "end_time": "2022-05-30T07:34:11.441702",
     "exception": false,
     "start_time": "2022-05-30T07:34:11.401830",
     "status": "completed"
    },
    "tags": []
   },
   "outputs": [
    {
     "data": {
      "text/plain": [
       "GENDER                                        0\n",
       "RETIREMENT_AGE                                0\n",
       "RETIREMENT_FUND_VALUE                         0\n",
       "DEPT_VALUE                                    0\n",
       "CURRENT_NET_MONTHLY_INCOME                    0\n",
       "SPARE_CASH_VALUE                              0\n",
       "FINANCIALLY_SUPPORT_PARTNER                   0\n",
       "FINANCIALLY_SUPPORT_CHILDREN                  0\n",
       "YEARS_SUPPORTING_CHILD                        0\n",
       "CHILD_MONTHLY_SUPPORTING_VALUE                0\n",
       "YEARS_SUPPORTING_SOMEONE_ELSE                 0\n",
       "OTHER_MONTHLY_SUPPORTING_VALUE                0\n",
       "HAS_EMERGENCY_SAVINGS                         0\n",
       "CRITICAL_ILLNESS                              0\n",
       "ONGOING_COACHING_FEE                          0\n",
       "CONFIDENCE_LEVEL                              0\n",
       "INITIAL_PLANNER_FEE_INCL_VAT_UT               0\n",
       "INITIAL_PLANNER_FEE_INCL_VAT_LA_AND_LAP       0\n",
       "ONGOING_PLANNER_FEE_INCL_VAT_UT               0\n",
       "ONGOING_PLANNER_FEE_INCL_VAT_LA_AND_LAP       0\n",
       "TARGET_MONTHLY_INCOME                         0\n",
       "SPOUSE_GENDER                              3186\n",
       "SPOUSE_RETIREMENT_AGE                      3186\n",
       "SPOUSE_DATE_OF_BIRTH                       3186\n",
       "PERCENTAGE_SUCCESS                            0\n",
       "SA_EQUITY_UNIT_TRUST                          0\n",
       "SA_BOND_UNIT_TRUST                            0\n",
       "SA_CASH_UNIT_TRUST                            0\n",
       "INTERNATIONAL_EQUITY_UNIT_TRUST               0\n",
       "INTERNATIONAL_BOND_UNIT_TRUST                 0\n",
       "INTERNATIONAL_CASH_UNIT_TRUST                 0\n",
       "SA_EQUITY_LAP                                 0\n",
       "SA_BOND_LAP                                   0\n",
       "SA_CASH_LAP                                   0\n",
       "INTERNATIONAL_EQUITY_LAP                      0\n",
       "INTERNATIONAL_BOND_LAP                        0\n",
       "INTERNATIONAL_CASH_LAP                        0\n",
       "LAP_EAC_PA_INCL_VAT                           0\n",
       "LA_EAC_PA_INCL_VAT                            0\n",
       "UNIT_TRUST_EAC_PA_INCL_VAT                    0\n",
       "dtype: int64"
      ]
     },
     "execution_count": 49,
     "metadata": {},
     "output_type": "execute_result"
    }
   ],
   "source": [
    "df_validation.isnull().sum()"
   ]
  },
  {
   "cell_type": "code",
   "execution_count": 95,
   "id": "02751808",
   "metadata": {
    "execution": {
     "iopub.execute_input": "2022-05-30T07:34:11.539329Z",
     "iopub.status.busy": "2022-05-30T07:34:11.539065Z",
     "iopub.status.idle": "2022-05-30T07:34:11.545834Z",
     "shell.execute_reply": "2022-05-30T07:34:11.545168Z"
    },
    "papermill": {
     "duration": 0.02568,
     "end_time": "2022-05-30T07:34:11.547512",
     "exception": false,
     "start_time": "2022-05-30T07:34:11.521832",
     "status": "completed"
    },
    "tags": []
   },
   "outputs": [
    {
     "data": {
      "text/plain": [
       "GENDER                                        0\n",
       "RETIREMENT_AGE                                0\n",
       "RETIREMENT_FUND_VALUE                         0\n",
       "DEPT_VALUE                                    0\n",
       "CURRENT_NET_MONTHLY_INCOME                    0\n",
       "SPARE_CASH_VALUE                              0\n",
       "FINANCIALLY_SUPPORT_PARTNER                   0\n",
       "FINANCIALLY_SUPPORT_CHILDREN                  0\n",
       "YEARS_SUPPORTING_CHILD                        0\n",
       "CHILD_MONTHLY_SUPPORTING_VALUE                0\n",
       "YEARS_SUPPORTING_SOMEONE_ELSE                 0\n",
       "OTHER_MONTHLY_SUPPORTING_VALUE                0\n",
       "HAS_EMERGENCY_SAVINGS                         0\n",
       "CRITICAL_ILLNESS                              0\n",
       "ONGOING_COACHING_FEE                          0\n",
       "CONFIDENCE_LEVEL                              0\n",
       "INITIAL_PLANNER_FEE_INCL_VAT_UT               0\n",
       "INITIAL_PLANNER_FEE_INCL_VAT_LA_AND_LAP       0\n",
       "ONGOING_PLANNER_FEE_INCL_VAT_UT               0\n",
       "ONGOING_PLANNER_FEE_INCL_VAT_LA_AND_LAP       0\n",
       "TARGET_MONTHLY_INCOME                         0\n",
       "SPOUSE_GENDER                              1657\n",
       "SPOUSE_RETIREMENT_AGE                      1657\n",
       "SPOUSE_DATE_OF_BIRTH                       1657\n",
       "PERCENTAGE_SUCCESS                            0\n",
       "SA_EQUITY_UNIT_TRUST                          0\n",
       "SA_BOND_UNIT_TRUST                            0\n",
       "SA_CASH_UNIT_TRUST                            0\n",
       "INTERNATIONAL_EQUITY_UNIT_TRUST               0\n",
       "INTERNATIONAL_BOND_UNIT_TRUST                 0\n",
       "INTERNATIONAL_CASH_UNIT_TRUST                 0\n",
       "SA_EQUITY_LAP                                 0\n",
       "SA_BOND_LAP                                   0\n",
       "SA_CASH_LAP                                   0\n",
       "INTERNATIONAL_EQUITY_LAP                      0\n",
       "INTERNATIONAL_BOND_LAP                        0\n",
       "INTERNATIONAL_CASH_LAP                        0\n",
       "LAP_EAC_PA_INCL_VAT                           0\n",
       "LA_EAC_PA_INCL_VAT                            0\n",
       "UNIT_TRUST_EAC_PA_INCL_VAT                    0\n",
       "dtype: int64"
      ]
     },
     "execution_count": 95,
     "metadata": {},
     "output_type": "execute_result"
    }
   ],
   "source": [
    "df_test.isnull().sum()"
   ]
  },
  {
   "cell_type": "code",
   "execution_count": 40,
   "id": "d298855a",
   "metadata": {},
   "outputs": [],
   "source": []
  },
  {
   "cell_type": "markdown",
   "id": "9dcf790c",
   "metadata": {
    "papermill": {
     "duration": 0.016005,
     "end_time": "2022-05-30T07:34:11.579631",
     "exception": false,
     "start_time": "2022-05-30T07:34:11.563626",
     "status": "completed"
    },
    "tags": []
   },
   "source": [
    "### 1.2. Numerical Feature "
   ]
  },
  {
   "cell_type": "markdown",
   "id": "c6df6593",
   "metadata": {
    "papermill": {
     "duration": 0.017598,
     "end_time": "2022-05-30T07:34:11.645806",
     "exception": false,
     "start_time": "2022-05-30T07:34:11.628208",
     "status": "completed"
    },
    "tags": []
   },
   "source": [
    "#### 1.2.1. Extracting Nnumerical features"
   ]
  },
  {
   "cell_type": "code",
   "execution_count": 50,
   "id": "86d7f588",
   "metadata": {
    "execution": {
     "iopub.execute_input": "2022-05-30T07:34:11.714319Z",
     "iopub.status.busy": "2022-05-30T07:34:11.713551Z",
     "iopub.status.idle": "2022-05-30T07:34:11.736801Z",
     "shell.execute_reply": "2022-05-30T07:34:11.735976Z"
    },
    "papermill": {
     "duration": 0.042836,
     "end_time": "2022-05-30T07:34:11.738819",
     "exception": false,
     "start_time": "2022-05-30T07:34:11.695983",
     "status": "completed"
    },
    "scrolled": true,
    "tags": []
   },
   "outputs": [
    {
     "name": "stdout",
     "output_type": "stream",
     "text": [
      "Index(['GENDER', 'FINANCIALLY_SUPPORT_PARTNER', 'FINANCIALLY_SUPPORT_CHILDREN',\n",
      "       'HAS_EMERGENCY_SAVINGS', 'CRITICAL_ILLNESS', 'SPOUSE_GENDER',\n",
      "       'SPOUSE_DATE_OF_BIRTH'],\n",
      "      dtype='object')\n",
      "<class 'pandas.core.frame.DataFrame'>\n",
      "Int64Index: 23944 entries, 1 to 43728\n",
      "Data columns (total 40 columns):\n",
      " #   Column                                   Non-Null Count  Dtype  \n",
      "---  ------                                   --------------  -----  \n",
      " 0   GENDER                                   23944 non-null  int32  \n",
      " 1   RETIREMENT_AGE                           23944 non-null  int64  \n",
      " 2   RETIREMENT_FUND_VALUE                    23944 non-null  int64  \n",
      " 3   DEPT_VALUE                               23944 non-null  int64  \n",
      " 4   CURRENT_NET_MONTHLY_INCOME               23944 non-null  int64  \n",
      " 5   SPARE_CASH_VALUE                         23944 non-null  int64  \n",
      " 6   FINANCIALLY_SUPPORT_PARTNER              23944 non-null  int32  \n",
      " 7   FINANCIALLY_SUPPORT_CHILDREN             23944 non-null  int32  \n",
      " 8   YEARS_SUPPORTING_CHILD                   23944 non-null  int64  \n",
      " 9   CHILD_MONTHLY_SUPPORTING_VALUE           23944 non-null  int64  \n",
      " 10  YEARS_SUPPORTING_SOMEONE_ELSE            23944 non-null  int64  \n",
      " 11  OTHER_MONTHLY_SUPPORTING_VALUE           23944 non-null  int64  \n",
      " 12  HAS_EMERGENCY_SAVINGS                    23944 non-null  int32  \n",
      " 13  CRITICAL_ILLNESS                         23944 non-null  int32  \n",
      " 14  ONGOING_COACHING_FEE                     23944 non-null  float64\n",
      " 15  CONFIDENCE_LEVEL                         23944 non-null  int64  \n",
      " 16  INITIAL_PLANNER_FEE_INCL_VAT_UT          23944 non-null  float64\n",
      " 17  INITIAL_PLANNER_FEE_INCL_VAT_LA_AND_LAP  23944 non-null  float64\n",
      " 18  ONGOING_PLANNER_FEE_INCL_VAT_UT          23944 non-null  float64\n",
      " 19  ONGOING_PLANNER_FEE_INCL_VAT_LA_AND_LAP  23944 non-null  float64\n",
      " 20  TARGET_MONTHLY_INCOME                    23944 non-null  int64  \n",
      " 21  SPOUSE_GENDER                            23944 non-null  int32  \n",
      " 22  SPOUSE_RETIREMENT_AGE                    12527 non-null  float64\n",
      " 23  SPOUSE_DATE_OF_BIRTH                     23944 non-null  int32  \n",
      " 24  PERCENTAGE_SUCCESS                       23944 non-null  float64\n",
      " 25  SA_EQUITY_UNIT_TRUST                     23944 non-null  float64\n",
      " 26  SA_BOND_UNIT_TRUST                       23944 non-null  float64\n",
      " 27  SA_CASH_UNIT_TRUST                       23944 non-null  float64\n",
      " 28  INTERNATIONAL_EQUITY_UNIT_TRUST          23944 non-null  float64\n",
      " 29  INTERNATIONAL_BOND_UNIT_TRUST            23944 non-null  float64\n",
      " 30  INTERNATIONAL_CASH_UNIT_TRUST            23944 non-null  float64\n",
      " 31  SA_EQUITY_LAP                            23944 non-null  float64\n",
      " 32  SA_BOND_LAP                              23944 non-null  float64\n",
      " 33  SA_CASH_LAP                              23944 non-null  float64\n",
      " 34  INTERNATIONAL_EQUITY_LAP                 23944 non-null  float64\n",
      " 35  INTERNATIONAL_BOND_LAP                   23944 non-null  float64\n",
      " 36  INTERNATIONAL_CASH_LAP                   23944 non-null  float64\n",
      " 37  LAP_EAC_PA_INCL_VAT                      23944 non-null  float64\n",
      " 38  LA_EAC_PA_INCL_VAT                       23944 non-null  float64\n",
      " 39  UNIT_TRUST_EAC_PA_INCL_VAT               23944 non-null  float64\n",
      "dtypes: float64(22), int32(7), int64(11)\n",
      "memory usage: 6.9 MB\n"
     ]
    }
   ],
   "source": [
    "# first, we want to make sure we make use of all our features, to do this, we have to make sure we encode the categorical features into numerical features; we do this for both the test and train data\n",
    "objList = df_train.select_dtypes(include = \"object\").columns\n",
    "print (objList)\n",
    "\n",
    "#Label Encoding for object to numeric conversion\n",
    "from sklearn.preprocessing import LabelEncoder\n",
    "le = LabelEncoder()\n",
    "\n",
    "for feat in objList:\n",
    "    df_train[feat] = le.fit_transform(df_train[feat].astype(str))\n",
    "\n",
    "df_train.info()"
   ]
  },
  {
   "cell_type": "code",
   "execution_count": 51,
   "id": "8f17dc69",
   "metadata": {
    "execution": {
     "iopub.execute_input": "2022-05-30T07:34:11.839676Z",
     "iopub.status.busy": "2022-05-30T07:34:11.838799Z",
     "iopub.status.idle": "2022-05-30T07:34:11.858742Z",
     "shell.execute_reply": "2022-05-30T07:34:11.857874Z"
    },
    "papermill": {
     "duration": 0.03892,
     "end_time": "2022-05-30T07:34:11.860534",
     "exception": false,
     "start_time": "2022-05-30T07:34:11.821614",
     "status": "completed"
    },
    "scrolled": false,
    "tags": []
   },
   "outputs": [
    {
     "name": "stdout",
     "output_type": "stream",
     "text": [
      "Index(['GENDER', 'FINANCIALLY_SUPPORT_PARTNER', 'FINANCIALLY_SUPPORT_CHILDREN',\n",
      "       'HAS_EMERGENCY_SAVINGS', 'CRITICAL_ILLNESS', 'SPOUSE_GENDER',\n",
      "       'SPOUSE_DATE_OF_BIRTH'],\n",
      "      dtype='object')\n",
      "<class 'pandas.core.frame.DataFrame'>\n",
      "Int64Index: 6841 entries, 43729 to 56494\n",
      "Data columns (total 40 columns):\n",
      " #   Column                                   Non-Null Count  Dtype  \n",
      "---  ------                                   --------------  -----  \n",
      " 0   GENDER                                   6841 non-null   int32  \n",
      " 1   RETIREMENT_AGE                           6841 non-null   int64  \n",
      " 2   RETIREMENT_FUND_VALUE                    6841 non-null   int64  \n",
      " 3   DEPT_VALUE                               6841 non-null   int64  \n",
      " 4   CURRENT_NET_MONTHLY_INCOME               6841 non-null   int64  \n",
      " 5   SPARE_CASH_VALUE                         6841 non-null   int64  \n",
      " 6   FINANCIALLY_SUPPORT_PARTNER              6841 non-null   int32  \n",
      " 7   FINANCIALLY_SUPPORT_CHILDREN             6841 non-null   int32  \n",
      " 8   YEARS_SUPPORTING_CHILD                   6841 non-null   int64  \n",
      " 9   CHILD_MONTHLY_SUPPORTING_VALUE           6841 non-null   int64  \n",
      " 10  YEARS_SUPPORTING_SOMEONE_ELSE            6841 non-null   int64  \n",
      " 11  OTHER_MONTHLY_SUPPORTING_VALUE           6841 non-null   int64  \n",
      " 12  HAS_EMERGENCY_SAVINGS                    6841 non-null   int32  \n",
      " 13  CRITICAL_ILLNESS                         6841 non-null   int32  \n",
      " 14  ONGOING_COACHING_FEE                     6841 non-null   float64\n",
      " 15  CONFIDENCE_LEVEL                         6841 non-null   int64  \n",
      " 16  INITIAL_PLANNER_FEE_INCL_VAT_UT          6841 non-null   float64\n",
      " 17  INITIAL_PLANNER_FEE_INCL_VAT_LA_AND_LAP  6841 non-null   float64\n",
      " 18  ONGOING_PLANNER_FEE_INCL_VAT_UT          6841 non-null   float64\n",
      " 19  ONGOING_PLANNER_FEE_INCL_VAT_LA_AND_LAP  6841 non-null   float64\n",
      " 20  TARGET_MONTHLY_INCOME                    6841 non-null   int64  \n",
      " 21  SPOUSE_GENDER                            6841 non-null   int32  \n",
      " 22  SPOUSE_RETIREMENT_AGE                    3655 non-null   float64\n",
      " 23  SPOUSE_DATE_OF_BIRTH                     6841 non-null   int32  \n",
      " 24  PERCENTAGE_SUCCESS                       6841 non-null   float64\n",
      " 25  SA_EQUITY_UNIT_TRUST                     6841 non-null   float64\n",
      " 26  SA_BOND_UNIT_TRUST                       6841 non-null   float64\n",
      " 27  SA_CASH_UNIT_TRUST                       6841 non-null   float64\n",
      " 28  INTERNATIONAL_EQUITY_UNIT_TRUST          6841 non-null   float64\n",
      " 29  INTERNATIONAL_BOND_UNIT_TRUST            6841 non-null   float64\n",
      " 30  INTERNATIONAL_CASH_UNIT_TRUST            6841 non-null   float64\n",
      " 31  SA_EQUITY_LAP                            6841 non-null   float64\n",
      " 32  SA_BOND_LAP                              6841 non-null   float64\n",
      " 33  SA_CASH_LAP                              6841 non-null   float64\n",
      " 34  INTERNATIONAL_EQUITY_LAP                 6841 non-null   float64\n",
      " 35  INTERNATIONAL_BOND_LAP                   6841 non-null   float64\n",
      " 36  INTERNATIONAL_CASH_LAP                   6841 non-null   float64\n",
      " 37  LAP_EAC_PA_INCL_VAT                      6841 non-null   float64\n",
      " 38  LA_EAC_PA_INCL_VAT                       6841 non-null   float64\n",
      " 39  UNIT_TRUST_EAC_PA_INCL_VAT               6841 non-null   float64\n",
      "dtypes: float64(22), int32(7), int64(11)\n",
      "memory usage: 2.0 MB\n"
     ]
    }
   ],
   "source": [
    "objList = df_validation.select_dtypes(include = \"object\").columns\n",
    "print (objList)\n",
    "\n",
    "for feat in objList:\n",
    "    df_validation[feat] = le.fit_transform(df_validation[feat].astype(str))\n",
    "\n",
    "df_validation.info()"
   ]
  },
  {
   "cell_type": "code",
   "execution_count": 96,
   "id": "59bffe68",
   "metadata": {},
   "outputs": [
    {
     "name": "stdout",
     "output_type": "stream",
     "text": [
      "Index(['GENDER', 'FINANCIALLY_SUPPORT_PARTNER', 'FINANCIALLY_SUPPORT_CHILDREN',\n",
      "       'HAS_EMERGENCY_SAVINGS', 'CRITICAL_ILLNESS', 'SPOUSE_GENDER',\n",
      "       'SPOUSE_DATE_OF_BIRTH'],\n",
      "      dtype='object')\n",
      "<class 'pandas.core.frame.DataFrame'>\n",
      "Int64Index: 3420 entries, 56495 to 62844\n",
      "Data columns (total 40 columns):\n",
      " #   Column                                   Non-Null Count  Dtype  \n",
      "---  ------                                   --------------  -----  \n",
      " 0   GENDER                                   3420 non-null   int32  \n",
      " 1   RETIREMENT_AGE                           3420 non-null   int64  \n",
      " 2   RETIREMENT_FUND_VALUE                    3420 non-null   int64  \n",
      " 3   DEPT_VALUE                               3420 non-null   int64  \n",
      " 4   CURRENT_NET_MONTHLY_INCOME               3420 non-null   int64  \n",
      " 5   SPARE_CASH_VALUE                         3420 non-null   int64  \n",
      " 6   FINANCIALLY_SUPPORT_PARTNER              3420 non-null   int32  \n",
      " 7   FINANCIALLY_SUPPORT_CHILDREN             3420 non-null   int32  \n",
      " 8   YEARS_SUPPORTING_CHILD                   3420 non-null   int64  \n",
      " 9   CHILD_MONTHLY_SUPPORTING_VALUE           3420 non-null   int64  \n",
      " 10  YEARS_SUPPORTING_SOMEONE_ELSE            3420 non-null   int64  \n",
      " 11  OTHER_MONTHLY_SUPPORTING_VALUE           3420 non-null   int64  \n",
      " 12  HAS_EMERGENCY_SAVINGS                    3420 non-null   int32  \n",
      " 13  CRITICAL_ILLNESS                         3420 non-null   int32  \n",
      " 14  ONGOING_COACHING_FEE                     3420 non-null   float64\n",
      " 15  CONFIDENCE_LEVEL                         3420 non-null   int64  \n",
      " 16  INITIAL_PLANNER_FEE_INCL_VAT_UT          3420 non-null   float64\n",
      " 17  INITIAL_PLANNER_FEE_INCL_VAT_LA_AND_LAP  3420 non-null   float64\n",
      " 18  ONGOING_PLANNER_FEE_INCL_VAT_UT          3420 non-null   float64\n",
      " 19  ONGOING_PLANNER_FEE_INCL_VAT_LA_AND_LAP  3420 non-null   float64\n",
      " 20  TARGET_MONTHLY_INCOME                    3420 non-null   int64  \n",
      " 21  SPOUSE_GENDER                            3420 non-null   int32  \n",
      " 22  SPOUSE_RETIREMENT_AGE                    1763 non-null   float64\n",
      " 23  SPOUSE_DATE_OF_BIRTH                     3420 non-null   int32  \n",
      " 24  PERCENTAGE_SUCCESS                       3420 non-null   float64\n",
      " 25  SA_EQUITY_UNIT_TRUST                     3420 non-null   float64\n",
      " 26  SA_BOND_UNIT_TRUST                       3420 non-null   float64\n",
      " 27  SA_CASH_UNIT_TRUST                       3420 non-null   float64\n",
      " 28  INTERNATIONAL_EQUITY_UNIT_TRUST          3420 non-null   float64\n",
      " 29  INTERNATIONAL_BOND_UNIT_TRUST            3420 non-null   float64\n",
      " 30  INTERNATIONAL_CASH_UNIT_TRUST            3420 non-null   float64\n",
      " 31  SA_EQUITY_LAP                            3420 non-null   float64\n",
      " 32  SA_BOND_LAP                              3420 non-null   float64\n",
      " 33  SA_CASH_LAP                              3420 non-null   float64\n",
      " 34  INTERNATIONAL_EQUITY_LAP                 3420 non-null   float64\n",
      " 35  INTERNATIONAL_BOND_LAP                   3420 non-null   float64\n",
      " 36  INTERNATIONAL_CASH_LAP                   3420 non-null   float64\n",
      " 37  LAP_EAC_PA_INCL_VAT                      3420 non-null   float64\n",
      " 38  LA_EAC_PA_INCL_VAT                       3420 non-null   float64\n",
      " 39  UNIT_TRUST_EAC_PA_INCL_VAT               3420 non-null   float64\n",
      "dtypes: float64(22), int32(7), int64(11)\n",
      "memory usage: 1002.0 KB\n"
     ]
    }
   ],
   "source": [
    "objList = df_test.select_dtypes(include = \"object\").columns\n",
    "print (objList)\n",
    "\n",
    "for feat in objList:\n",
    "    df_test[feat] = le.fit_transform(df_test[feat].astype(str))\n",
    "\n",
    "df_test.info()"
   ]
  },
  {
   "cell_type": "code",
   "execution_count": null,
   "id": "0e95151d",
   "metadata": {
    "execution": {
     "iopub.execute_input": "2022-05-30T07:34:11.929387Z",
     "iopub.status.busy": "2022-05-30T07:34:11.928877Z",
     "iopub.status.idle": "2022-05-30T07:34:11.949510Z",
     "shell.execute_reply": "2022-05-30T07:34:11.948793Z"
    },
    "papermill": {
     "duration": 0.04011,
     "end_time": "2022-05-30T07:34:11.951209",
     "exception": false,
     "start_time": "2022-05-30T07:34:11.911099",
     "status": "completed"
    },
    "scrolled": false,
    "tags": []
   },
   "outputs": [],
   "source": []
  },
  {
   "cell_type": "code",
   "execution_count": 52,
   "id": "eadff6ba",
   "metadata": {},
   "outputs": [],
   "source": [
    "df_train = df_train.fillna(0)"
   ]
  },
  {
   "cell_type": "code",
   "execution_count": 53,
   "id": "f26413cb",
   "metadata": {},
   "outputs": [],
   "source": [
    "df_validation = df_validation.fillna(0)"
   ]
  },
  {
   "cell_type": "code",
   "execution_count": 98,
   "id": "fd70e9e5",
   "metadata": {},
   "outputs": [],
   "source": [
    "df_test = df_test.fillna(0)"
   ]
  },
  {
   "cell_type": "markdown",
   "id": "10a49ef3",
   "metadata": {},
   "source": [
    "## <font color='goldenrod'> 2 Feature Engineering <front>"
   ]
  },
  {
   "cell_type": "markdown",
   "id": "8054c74c",
   "metadata": {
    "papermill": {
     "duration": 0.017246,
     "end_time": "2022-05-30T07:34:12.019990",
     "exception": false,
     "start_time": "2022-05-30T07:34:12.002744",
     "status": "completed"
    },
    "tags": []
   },
   "source": [
    "### 2.1 Features distribution"
   ]
  },
  {
   "cell_type": "code",
   "execution_count": null,
   "id": "edb1d9c8",
   "metadata": {
    "execution": {
     "iopub.execute_input": "2022-05-30T07:34:12.123684Z",
     "iopub.status.busy": "2022-05-30T07:34:12.123054Z",
     "iopub.status.idle": "2022-05-30T07:34:20.149024Z",
     "shell.execute_reply": "2022-05-30T07:34:20.148293Z"
    },
    "papermill": {
     "duration": 8.050827,
     "end_time": "2022-05-30T07:34:20.156038",
     "exception": false,
     "start_time": "2022-05-30T07:34:12.105211",
     "status": "completed"
    },
    "tags": []
   },
   "outputs": [],
   "source": []
  },
  {
   "cell_type": "code",
   "execution_count": null,
   "id": "2c989a27",
   "metadata": {
    "execution": {
     "iopub.execute_input": "2022-05-30T07:34:20.221995Z",
     "iopub.status.busy": "2022-05-30T07:34:20.221504Z",
     "iopub.status.idle": "2022-05-30T07:34:27.823497Z",
     "shell.execute_reply": "2022-05-30T07:34:27.822725Z"
    },
    "papermill": {
     "duration": 7.64003,
     "end_time": "2022-05-30T07:34:27.827010",
     "exception": false,
     "start_time": "2022-05-30T07:34:20.186980",
     "status": "completed"
    },
    "scrolled": true,
    "tags": []
   },
   "outputs": [],
   "source": []
  },
  {
   "cell_type": "markdown",
   "id": "b2e8f062",
   "metadata": {
    "papermill": {
     "duration": 0.021115,
     "end_time": "2022-05-30T07:34:27.912853",
     "exception": false,
     "start_time": "2022-05-30T07:34:27.891738",
     "status": "completed"
    },
    "tags": []
   },
   "source": [
    "### 2.2 Dealing With Quasi-Constant variables"
   ]
  },
  {
   "cell_type": "code",
   "execution_count": null,
   "id": "cf0f6d78",
   "metadata": {
    "execution": {
     "iopub.execute_input": "2022-05-30T07:34:28.000089Z",
     "iopub.status.busy": "2022-05-30T07:34:27.999531Z",
     "iopub.status.idle": "2022-05-30T07:34:28.007135Z",
     "shell.execute_reply": "2022-05-30T07:34:28.006337Z"
    },
    "papermill": {
     "duration": 0.031573,
     "end_time": "2022-05-30T07:34:28.008768",
     "exception": false,
     "start_time": "2022-05-30T07:34:27.977195",
     "status": "completed"
    },
    "tags": []
   },
   "outputs": [],
   "source": []
  },
  {
   "cell_type": "markdown",
   "id": "038afdcd",
   "metadata": {},
   "source": [
    "#### 2.2.1 Feature Selection By Variance Threshold"
   ]
  },
  {
   "cell_type": "code",
   "execution_count": null,
   "id": "7b586388",
   "metadata": {
    "execution": {
     "iopub.execute_input": "2022-05-30T07:34:28.053037Z",
     "iopub.status.busy": "2022-05-30T07:34:28.052774Z",
     "iopub.status.idle": "2022-05-30T07:34:28.072621Z",
     "shell.execute_reply": "2022-05-30T07:34:28.071680Z"
    },
    "papermill": {
     "duration": 0.044116,
     "end_time": "2022-05-30T07:34:28.074545",
     "exception": false,
     "start_time": "2022-05-30T07:34:28.030429",
     "status": "completed"
    },
    "tags": []
   },
   "outputs": [],
   "source": []
  },
  {
   "cell_type": "code",
   "execution_count": null,
   "id": "dbb5bb4f",
   "metadata": {
    "execution": {
     "iopub.execute_input": "2022-05-30T07:34:28.118536Z",
     "iopub.status.busy": "2022-05-30T07:34:28.118278Z",
     "iopub.status.idle": "2022-05-30T07:34:28.121960Z",
     "shell.execute_reply": "2022-05-30T07:34:28.121252Z"
    },
    "papermill": {
     "duration": 0.027919,
     "end_time": "2022-05-30T07:34:28.123942",
     "exception": false,
     "start_time": "2022-05-30T07:34:28.096023",
     "status": "completed"
    },
    "scrolled": true,
    "tags": []
   },
   "outputs": [],
   "source": []
  },
  {
   "cell_type": "code",
   "execution_count": null,
   "id": "971c25c9",
   "metadata": {
    "execution": {
     "iopub.execute_input": "2022-05-30T07:34:28.167889Z",
     "iopub.status.busy": "2022-05-30T07:34:28.167635Z",
     "iopub.status.idle": "2022-05-30T07:34:28.187397Z",
     "shell.execute_reply": "2022-05-30T07:34:28.186239Z"
    },
    "papermill": {
     "duration": 0.043657,
     "end_time": "2022-05-30T07:34:28.189073",
     "exception": false,
     "start_time": "2022-05-30T07:34:28.145416",
     "status": "completed"
    },
    "tags": []
   },
   "outputs": [],
   "source": []
  },
  {
   "cell_type": "code",
   "execution_count": null,
   "id": "5dd6f1f3",
   "metadata": {
    "execution": {
     "iopub.execute_input": "2022-05-30T07:34:28.234102Z",
     "iopub.status.busy": "2022-05-30T07:34:28.233833Z",
     "iopub.status.idle": "2022-05-30T07:34:28.237796Z",
     "shell.execute_reply": "2022-05-30T07:34:28.237000Z"
    },
    "papermill": {
     "duration": 0.0294,
     "end_time": "2022-05-30T07:34:28.240333",
     "exception": false,
     "start_time": "2022-05-30T07:34:28.210933",
     "status": "completed"
    },
    "tags": []
   },
   "outputs": [],
   "source": []
  },
  {
   "cell_type": "markdown",
   "id": "42553809",
   "metadata": {
    "papermill": {
     "duration": 0.035306,
     "end_time": "2022-05-30T07:34:41.583559",
     "exception": false,
     "start_time": "2022-05-30T07:34:41.548253",
     "status": "completed"
    },
    "tags": []
   },
   "source": [
    "#### 2.2.2. Feature Selection By Correlation"
   ]
  },
  {
   "cell_type": "markdown",
   "id": "7aef2304",
   "metadata": {
    "papermill": {
     "duration": 0.035106,
     "end_time": "2022-05-30T07:34:41.653794",
     "exception": false,
     "start_time": "2022-05-30T07:34:41.618688",
     "status": "completed"
    },
    "tags": []
   },
   "source": [
    "A correlation matrix is simply a table which displays the correlation coefficients for different variables. The matrix depicts the correlation between all the possible pairs of values in a table. "
   ]
  },
  {
   "cell_type": "markdown",
   "id": "5379e9f5",
   "metadata": {
    "papermill": {
     "duration": 0.035124,
     "end_time": "2022-05-30T07:34:41.724069",
     "exception": false,
     "start_time": "2022-05-30T07:34:41.688945",
     "status": "completed"
    },
    "tags": []
   },
   "source": [
    "##### Pearson's Correlation"
   ]
  },
  {
   "cell_type": "markdown",
   "id": "8b10686a",
   "metadata": {
    "papermill": {
     "duration": 0.035371,
     "end_time": "2022-05-30T07:34:41.794468",
     "exception": false,
     "start_time": "2022-05-30T07:34:41.759097",
     "status": "completed"
    },
    "tags": []
   },
   "source": [
    "It is a powerful tool to summarize a large dataset and to gauge how far the independent variables are linearly related to the target variable. So let's check this out."
   ]
  },
  {
   "cell_type": "code",
   "execution_count": null,
   "id": "4c1f6a8b",
   "metadata": {
    "scrolled": true
   },
   "outputs": [],
   "source": []
  },
  {
   "cell_type": "code",
   "execution_count": null,
   "id": "821ae91b",
   "metadata": {
    "papermill": {
     "duration": 0.037724,
     "end_time": "2022-05-30T07:34:45.000479",
     "exception": false,
     "start_time": "2022-05-30T07:34:44.962755",
     "status": "completed"
    },
    "tags": []
   },
   "outputs": [],
   "source": []
  },
  {
   "cell_type": "code",
   "execution_count": null,
   "id": "5f3114b8",
   "metadata": {},
   "outputs": [],
   "source": []
  },
  {
   "cell_type": "code",
   "execution_count": null,
   "id": "d1e0e1c1",
   "metadata": {
    "execution": {
     "iopub.execute_input": "2022-05-30T07:34:41.866581Z",
     "iopub.status.busy": "2022-05-30T07:34:41.866232Z",
     "iopub.status.idle": "2022-05-30T07:34:44.444820Z",
     "shell.execute_reply": "2022-05-30T07:34:44.444045Z"
    },
    "papermill": {
     "duration": 2.618435,
     "end_time": "2022-05-30T07:34:44.447934",
     "exception": false,
     "start_time": "2022-05-30T07:34:41.829499",
     "status": "completed"
    },
    "tags": []
   },
   "outputs": [],
   "source": []
  },
  {
   "cell_type": "markdown",
   "id": "c4913ee2",
   "metadata": {},
   "source": [
    "##  <font color='goldenrod'>3. Preparing The Data For Modeling <front>"
   ]
  },
  {
   "cell_type": "markdown",
   "id": "39a2ba7c",
   "metadata": {},
   "source": [
    "### 3.1. Spliting the training sets into independent and the dependent variables"
   ]
  },
  {
   "cell_type": "code",
   "execution_count": 65,
   "id": "22ed3b44",
   "metadata": {
    "scrolled": true
   },
   "outputs": [],
   "source": [
    "X = df_train.drop(['RETIREMENT_FUND_VALUE'], axis=1) # splitting the train data into test and train splits\n",
    "y = df_train['RETIREMENT_FUND_VALUE']"
   ]
  },
  {
   "cell_type": "code",
   "execution_count": null,
   "id": "484656aa",
   "metadata": {},
   "outputs": [],
   "source": []
  },
  {
   "cell_type": "code",
   "execution_count": null,
   "id": "2009ab86",
   "metadata": {},
   "outputs": [],
   "source": []
  },
  {
   "cell_type": "markdown",
   "id": "6134f9e6",
   "metadata": {},
   "source": [
    "### 3.2. Split Data Into Train & Test"
   ]
  },
  {
   "cell_type": "code",
   "execution_count": 56,
   "id": "1870bf6f",
   "metadata": {},
   "outputs": [],
   "source": [
    "X_train, X_test, y_train, y_test = train_test_split(X, y, test_size = 0.2, random_state=42)"
   ]
  },
  {
   "cell_type": "code",
   "execution_count": null,
   "id": "eb67f6e3",
   "metadata": {},
   "outputs": [],
   "source": []
  },
  {
   "cell_type": "markdown",
   "id": "61991476",
   "metadata": {},
   "source": [
    "# <font color='goldenrod'>4. Modeling <front>\n",
    "The next thing we do is to bring in all the regression models we which to build and assign them a variable name so we can easily call on them when we wish to use them."
   ]
  },
  {
   "cell_type": "markdown",
   "id": "4e5331c4",
   "metadata": {},
   "source": [
    "### 4.1. Fitting Our Models\n",
    "In the cell below, we then fit each model into our train set to know the outcome"
   ]
  },
  {
   "cell_type": "code",
   "execution_count": 82,
   "id": "84584cec",
   "metadata": {},
   "outputs": [],
   "source": [
    "linear=LinearRegression()"
   ]
  },
  {
   "cell_type": "code",
   "execution_count": 83,
   "id": "f0dc1e44",
   "metadata": {},
   "outputs": [],
   "source": [
    "linear.fit(X_train, y_train) # fitting our base model on the splits from the training data\n",
    "linear_prediction = linear.predict(X_test) # making our predictions on the test set"
   ]
  },
  {
   "cell_type": "code",
   "execution_count": null,
   "id": "72a5f292",
   "metadata": {},
   "outputs": [],
   "source": []
  },
  {
   "cell_type": "markdown",
   "id": "a80b456a",
   "metadata": {},
   "source": [
    "    "
   ]
  },
  {
   "cell_type": "markdown",
   "id": "a12fe033",
   "metadata": {},
   "source": [
    "### 4.2. Evaluating The Fitted Model\n",
    "In the cell below, we then fit each model into our train set to know the outcome"
   ]
  },
  {
   "cell_type": "code",
   "execution_count": 84,
   "id": "064b2240",
   "metadata": {},
   "outputs": [],
   "source": [
    "# extract MLR model intercept\n",
    "intercept_linear = float(linear.intercept_) # for the training data\n"
   ]
  },
  {
   "cell_type": "code",
   "execution_count": 85,
   "id": "36f6ea5f",
   "metadata": {},
   "outputs": [
    {
     "name": "stdout",
     "output_type": "stream",
     "text": [
      "Intercept of Linear Model From The Training Data: 8404839.579997778\n"
     ]
    }
   ],
   "source": [
    "print(\"Intercept of Linear Model From The Training Data:\", intercept_linear)\n"
   ]
  },
  {
   "cell_type": "code",
   "execution_count": 86,
   "id": "1ad31852",
   "metadata": {},
   "outputs": [
    {
     "name": "stdout",
     "output_type": "stream",
     "text": [
      "Coefficients of Linear Model For Training Data: [-8.91961597e+05 -1.85709383e+05  1.89570042e+00  2.54015300e+00\n",
      "  1.89430301e+00 -1.62082843e+06  6.36492391e+04 -8.54513497e+03\n",
      " -5.16266897e-01  7.18619805e+03  1.38808836e+01 -4.42044966e+02\n",
      " -1.97929601e+06  3.62441743e+03  4.42046104e+03 -3.63030266e+03\n",
      "  8.61758390e+03  8.61820914e+02 -4.84949344e+03  1.58290956e+02\n",
      " -9.52325532e+04  3.17137298e+04  3.92211405e+03  7.38680990e+04\n",
      "  8.88610556e+02 -8.24926311e+01  1.38452608e+03  3.40851597e+02\n",
      " -1.62560497e+03 -9.05890739e+02 -1.42006294e+04  4.07444953e+03\n",
      "  6.29932627e+03 -7.86661942e+03 -3.49924319e+03  1.51927160e+04\n",
      "  1.08839151e+05  1.08839151e+05  1.47805254e+05]\n"
     ]
    }
   ],
   "source": [
    "# extract model coeffs\n",
    "print(\"Coefficients of Linear Model For Training Data:\", linear.coef_)\n"
   ]
  },
  {
   "cell_type": "code",
   "execution_count": 64,
   "id": "6a56c4a5",
   "metadata": {},
   "outputs": [],
   "source": [
    "\n"
   ]
  },
  {
   "cell_type": "code",
   "execution_count": null,
   "id": "1e6f6c34",
   "metadata": {},
   "outputs": [],
   "source": []
  },
  {
   "cell_type": "markdown",
   "id": "5e67b70f",
   "metadata": {},
   "source": [
    "### 4.3. Choosing The Best Model"
   ]
  },
  {
   "cell_type": "markdown",
   "id": "19b1ac38",
   "metadata": {},
   "source": [
    "#### 4.3.1. Calculate The R2 Score\n",
    "The next thing we want to do is to calculate the `r2 score` for each of our regression model, we are looking for the regression model that has the r2 closest to `1`, let's have a look below to see how that plays out."
   ]
  },
  {
   "cell_type": "code",
   "execution_count": 88,
   "id": "f3b440b5",
   "metadata": {},
   "outputs": [
    {
     "name": "stdout",
     "output_type": "stream",
     "text": [
      "R2 For Training Data:  0.911345824127714\n"
     ]
    }
   ],
   "source": [
    "print(f'R2 For Training Data:  {r2_score(y_test, linear_prediction)}')\n"
   ]
  },
  {
   "cell_type": "markdown",
   "id": "3cc281e5",
   "metadata": {},
   "source": [
    "Next we plot a Barplot to visualize the performance of r2 score for each regression model."
   ]
  },
  {
   "cell_type": "code",
   "execution_count": null,
   "id": "e7dbe254",
   "metadata": {},
   "outputs": [],
   "source": []
  },
  {
   "cell_type": "markdown",
   "id": "c6672c63",
   "metadata": {},
   "source": [
    "RMSE for our Training Set"
   ]
  },
  {
   "cell_type": "code",
   "execution_count": 89,
   "id": "ed0b45d1",
   "metadata": {},
   "outputs": [
    {
     "name": "stdout",
     "output_type": "stream",
     "text": [
      "Linear Model RMSE For Training Data:  1144481.9530941774\n"
     ]
    }
   ],
   "source": [
    "def rmse(y_test, y_predict):\n",
    "    return np.sqrt(mean_squared_error(y_test, y_predict))\n",
    "\n",
    "print(f'Linear Model RMSE For Training Data:  {rmse(y_test, linear_prediction)}')\n"
   ]
  },
  {
   "cell_type": "markdown",
   "id": "389c4aea",
   "metadata": {},
   "source": [
    "RMSE for our Test Set"
   ]
  },
  {
   "cell_type": "code",
   "execution_count": null,
   "id": "af435e96",
   "metadata": {},
   "outputs": [],
   "source": []
  },
  {
   "cell_type": "markdown",
   "id": "89338ec9",
   "metadata": {},
   "source": [
    "Difference between the Training Set RMSE and The Test Set RMSE "
   ]
  },
  {
   "cell_type": "code",
   "execution_count": null,
   "id": "783c3a60",
   "metadata": {},
   "outputs": [],
   "source": []
  },
  {
   "cell_type": "markdown",
   "id": "172a1768",
   "metadata": {},
   "source": [
    "    "
   ]
  },
  {
   "cell_type": "markdown",
   "id": "e449d5aa",
   "metadata": {},
   "source": [
    "Now we want to create avisualization for our choosen model using the scatter plot and a lIne that shows us how fit our model is on our test data."
   ]
  },
  {
   "cell_type": "code",
   "execution_count": null,
   "id": "d818d7a9",
   "metadata": {},
   "outputs": [],
   "source": []
  },
  {
   "cell_type": "markdown",
   "id": "36faf80b",
   "metadata": {},
   "source": [
    "### 4.4 Prediction Of Income For The Test Data"
   ]
  },
  {
   "cell_type": "code",
   "execution_count": 101,
   "id": "38f8a73a",
   "metadata": {},
   "outputs": [],
   "source": [
    "df_test1 = df_test.copy()"
   ]
  },
  {
   "cell_type": "code",
   "execution_count": 103,
   "id": "8713786c",
   "metadata": {},
   "outputs": [],
   "source": [
    "df_test1 = df_test1.drop(['RETIREMENT_FUND_VALUE'], axis=1)"
   ]
  },
  {
   "cell_type": "markdown",
   "id": "3f328b28",
   "metadata": {},
   "source": [
    "Predict the values of our test data using the random forest model, since it is the regression model that gives us a r2 score closer to 1"
   ]
  },
  {
   "cell_type": "code",
   "execution_count": 104,
   "id": "35137b7f",
   "metadata": {},
   "outputs": [],
   "source": [
    "prediction =  linear.predict(df_test1)"
   ]
  },
  {
   "cell_type": "code",
   "execution_count": null,
   "id": "860f1c46",
   "metadata": {
    "scrolled": true
   },
   "outputs": [],
   "source": []
  },
  {
   "cell_type": "markdown",
   "id": "bdeb3649",
   "metadata": {},
   "source": [
    "Now we print out the predicted value for the sales price using the test data"
   ]
  },
  {
   "cell_type": "code",
   "execution_count": 105,
   "id": "05759ee0",
   "metadata": {},
   "outputs": [
    {
     "data": {
      "text/html": [
       "<div>\n",
       "<style scoped>\n",
       "    .dataframe tbody tr th:only-of-type {\n",
       "        vertical-align: middle;\n",
       "    }\n",
       "\n",
       "    .dataframe tbody tr th {\n",
       "        vertical-align: top;\n",
       "    }\n",
       "\n",
       "    .dataframe thead th {\n",
       "        text-align: right;\n",
       "    }\n",
       "</style>\n",
       "<table border=\"1\" class=\"dataframe\">\n",
       "  <thead>\n",
       "    <tr style=\"text-align: right;\">\n",
       "      <th></th>\n",
       "      <th>RETIREMENT_FUND_VALUE</th>\n",
       "    </tr>\n",
       "  </thead>\n",
       "  <tbody>\n",
       "    <tr>\n",
       "      <th>0</th>\n",
       "      <td>3.993852e+06</td>\n",
       "    </tr>\n",
       "    <tr>\n",
       "      <th>1</th>\n",
       "      <td>6.352572e+06</td>\n",
       "    </tr>\n",
       "    <tr>\n",
       "      <th>2</th>\n",
       "      <td>4.383573e+06</td>\n",
       "    </tr>\n",
       "    <tr>\n",
       "      <th>3</th>\n",
       "      <td>9.440058e+06</td>\n",
       "    </tr>\n",
       "    <tr>\n",
       "      <th>4</th>\n",
       "      <td>5.440604e+06</td>\n",
       "    </tr>\n",
       "  </tbody>\n",
       "</table>\n",
       "</div>"
      ],
      "text/plain": [
       "   RETIREMENT_FUND_VALUE\n",
       "0           3.993852e+06\n",
       "1           6.352572e+06\n",
       "2           4.383573e+06\n",
       "3           9.440058e+06\n",
       "4           5.440604e+06"
      ]
     },
     "execution_count": 105,
     "metadata": {},
     "output_type": "execute_result"
    }
   ],
   "source": [
    "daf = pd.DataFrame(prediction, columns = ['RETIREMENT_FUND_VALUE'])\n",
    "daf.head()"
   ]
  },
  {
   "cell_type": "code",
   "execution_count": 107,
   "id": "25e6a54f",
   "metadata": {},
   "outputs": [
    {
     "name": "stdout",
     "output_type": "stream",
     "text": [
      "R2 For Training Data:  0.6083208463652969\n"
     ]
    }
   ],
   "source": [
    "print(f'R2 For Training Data:  {r2_score(df_test.RETIREMENT_FUND_VALUE, prediction)}')\n"
   ]
  },
  {
   "cell_type": "code",
   "execution_count": null,
   "id": "406101bc",
   "metadata": {},
   "outputs": [],
   "source": []
  },
  {
   "cell_type": "code",
   "execution_count": null,
   "id": "3b70bc96",
   "metadata": {},
   "outputs": [],
   "source": []
  },
  {
   "cell_type": "code",
   "execution_count": null,
   "id": "cdbd0886",
   "metadata": {},
   "outputs": [],
   "source": []
  }
 ],
 "metadata": {
  "kernelspec": {
   "display_name": "Python 3 (ipykernel)",
   "language": "python",
   "name": "python3"
  },
  "language_info": {
   "codemirror_mode": {
    "name": "ipython",
    "version": 3
   },
   "file_extension": ".py",
   "mimetype": "text/x-python",
   "name": "python",
   "nbconvert_exporter": "python",
   "pygments_lexer": "ipython3",
   "version": "3.9.7"
  },
  "papermill": {
   "default_parameters": {},
   "duration": 46.294,
   "end_time": "2022-05-30T07:34:45.962965",
   "environment_variables": {},
   "exception": null,
   "input_path": "__notebook__.ipynb",
   "output_path": "__notebook__.ipynb",
   "parameters": {},
   "start_time": "2022-05-30T07:33:59.668965",
   "version": "2.3.4"
  }
 },
 "nbformat": 4,
 "nbformat_minor": 5
}
